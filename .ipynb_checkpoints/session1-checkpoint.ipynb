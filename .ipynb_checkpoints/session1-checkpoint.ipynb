{
 "cells": [
  {
   "cell_type": "markdown",
   "id": "3796d6f2-3d8c-4312-a580-45454d6d8513",
   "metadata": {},
   "source": [
    "# Session 1: No structured prompt"
   ]
  },
  {
   "cell_type": "markdown",
   "id": "60dbebdf-5383-4b0c-9ca0-a8e3e34fd749",
   "metadata": {},
   "source": [
    "## Set up LLM through API\n"
   ]
  },
  {
   "cell_type": "code",
   "execution_count": 2,
   "id": "e25c4e26-3e9a-4535-b9fc-41e18e5ccc26",
   "metadata": {},
   "outputs": [],
   "source": [
    "from typing import Annotated\n",
    "\n",
    "from typing_extensions import TypedDict\n",
    "\n",
    "from langgraph.graph import StateGraph, START, END\n",
    "from langgraph.graph.message import add_messages\n",
    "from langchain.chat_models import init_chat_model\n",
    "from langgraph.checkpoint.memory import InMemorySaver\n",
    "\n",
    "from IPython.display import Image, display\n",
    "\n",
    "from dotenv import load_dotenv\n",
    "_ = load_dotenv()"
   ]
  },
  {
   "cell_type": "code",
   "execution_count": 3,
   "id": "862c9d15-6b8e-445d-ba38-2b7add34a375",
   "metadata": {},
   "outputs": [],
   "source": [
    "llm = init_chat_model(\"openai:gpt-4o-mini\")"
   ]
  },
  {
   "cell_type": "code",
   "execution_count": 4,
   "id": "3ba4719b-8b91-4111-b720-7e414d5bf622",
   "metadata": {},
   "outputs": [],
   "source": [
    "class State(TypedDict):\n",
    "    # Messages have the type \"list\". The `add_messages` function\n",
    "    # in the annotation defines how this state key should be updated\n",
    "    # (in this case, it appends messages to the list, rather than overwriting them)\n",
    "    messages: Annotated[list, add_messages]\n",
    "\n",
    "\n",
    "graph_builder = StateGraph(State)"
   ]
  },
  {
   "cell_type": "code",
   "execution_count": 5,
   "id": "f447d3da-2589-434b-a109-b4b15238fd6d",
   "metadata": {},
   "outputs": [
    {
     "data": {
      "text/plain": [
       "<langgraph.graph.state.StateGraph at 0x7fb6b3590bc0>"
      ]
     },
     "execution_count": 5,
     "metadata": {},
     "output_type": "execute_result"
    }
   ],
   "source": [
    "def chatbot(state: State):\n",
    "    return {\"messages\": [llm.invoke(state[\"messages\"])]}\n",
    "\n",
    "\n",
    "\n",
    "# The first argument is the unique node name\n",
    "# The second argument is the function or object that will be called whenever\n",
    "# the node is used.\n",
    "graph_builder.add_node(\"chatbot\", chatbot)\n",
    "\n",
    "graph_builder.add_edge(START, \"chatbot\")\n",
    "graph_builder.add_edge(\"chatbot\", END)"
   ]
  },
  {
   "cell_type": "code",
   "execution_count": 6,
   "id": "3a0dc34c-2c73-45cf-ade5-189723514e2f",
   "metadata": {},
   "outputs": [],
   "source": [
    "memory = InMemorySaver()\n",
    "graph = graph_builder.compile(checkpointer=memory)"
   ]
  },
  {
   "cell_type": "code",
   "execution_count": 7,
   "id": "32226bc6-f55a-4be8-9d9e-23ee2a9c787e",
   "metadata": {},
   "outputs": [
    {
     "data": {
      "image/png": "[encoded data removed]",
      "text/plain": [
       "<IPython.core.display.Image object>"
      ]
     },
     "metadata": {},
     "output_type": "display_data"
    }
   ],
   "source": [
    "\n",
    "try:\n",
    "    display(Image(graph.get_graph().draw_mermaid_png()))\n",
    "except Exception:\n",
    "    # This requires some extra dependencies and is optional\n",
    "    pass"
   ]
  },
  {
   "cell_type": "code",
   "execution_count": null,
   "id": "b1075878-e907-4dd7-aace-37f63cd362b0",
   "metadata": {},
   "outputs": [
    {
     "name": "stdin",
     "output_type": "stream",
     "text": [
      "User:  I want you to be my tutor\n"
     ]
    },
    {
     "name": "stdout",
     "output_type": "stream",
     "text": [
      "Assistant: Of course! I’d be happy to help you learn. What subject or topic do you need assistance with?\n"
     ]
    },
    {
     "name": "stdin",
     "output_type": "stream",
     "text": [
      "User:  I am learning how to play tennis for the first time and would like you to coach me through it. I want to learn the basic shots first.\n"
     ]
    },
    {
     "name": "stdout",
     "output_type": "stream",
     "text": [
      "Assistant: That sounds great! Here’s a basic guide to help you get started with the fundamental shots in tennis:\n",
      "\n",
      "### 1. **Grip**\n",
      "\n",
      "Before you start hitting the ball, familiarize yourself with different grips. The two most common grips are:\n",
      "\n",
      "- **Eastern Grip**: Good for forehand shots; hold the racket as if you are shaking hands with it.\n",
      "- **Western Grip**: Offers more topspin; rotate your hand more under the racket.\n",
      "\n",
      "Try these grips and see which one feels comfortable for you.\n",
      "\n",
      "### 2. **The Forehand**\n",
      "\n",
      "- **Stance**: Stand with your feet shoulder-width apart, knees slightly bent. Position yourself sideways to the net.\n",
      "- **Preparation**: Bring the racket back with your non-dominant hand pointing towards the net.\n",
      "- **Swing**: Step forward with your front foot, rotate your hips, and swing the racket forward, making contact with the ball in front of you.\n",
      "- **Follow-through**: Finish the swing high, over your shoulder.\n",
      "\n",
      "### 3. **The Backhand**\n",
      "\n",
      "- **Stance**: Similar to the forehand, but you’ll face more towards the net.\n",
      "- **Grip**: You can use either one-handed or two-handed backhand grips.\n",
      "- **Preparation**: Like the forehand, prepare by turning your shoulders and bringing the racket back.\n",
      "- **Swing**: Step forward, rotate your hips, and swing the racket forward to meet the ball.\n",
      "- **Follow-through**: Finish the swing with the racket high. \n",
      "\n",
      "### 4. **The Serve**\n",
      "\n",
      "- **Stance**: Stand behind the baseline with your feet shoulder-width apart.\n",
      "- **Grip**: Use the continental grip (similar to a handshake).\n",
      "- **Ball Toss**: Hold the ball in your non-dominant hand and toss it slightly in front of you.\n",
      "- **Swing**: As you toss the ball, bring your racket back and then swing it up to make contact with the ball at its highest point.\n",
      "- **Follow-through**: Let your racket follow through after hitting the ball.\n",
      "\n",
      "### 5. **The Volley**\n",
      "\n",
      "- **Stance**: Stand closer to the net, with a slight bend in your knees.\n",
      "- **Grip**: Use the same grip as your forehand or backhand.\n",
      "- **Position**: Hold your racket in front of you, ready to react to an incoming ball.\n",
      "- **Swing**: Instead of a full swing, use a short, controlled motion to punch the ball back over the net.\n",
      "- **Follow-through**: Keep it short and compact.\n",
      "\n",
      "### Practice Tips\n",
      "\n",
      "1. **Warm Up**: Always start with light stretching and some warm-up hits.\n",
      "2. **Drills**: Practice hitting against a wall, with a partner, or using a ball machine.\n",
      "3. **Footwork**: Pay attention to your footwork; good positioning is crucial.\n",
      "4. **Consistency**: Focus on consistency over power as you’re starting out.\n",
      "\n",
      "### Additional Advice\n",
      "\n",
      "- Consider taking some lessons with a coach to refine your technique.\n",
      "- Watch tennis matches to understand gameplay and tactics.\n",
      "- Most importantly, enjoy the game and have fun!\n",
      "\n",
      "Let me know if you’d like more information on any specific aspect or if you have other questions!\n"
     ]
    },
    {
     "name": "stdin",
     "output_type": "stream",
     "text": [
      "User:  What are the most important things I should focus on as a beginner?\n"
     ]
    },
    {
     "name": "stdout",
     "output_type": "stream",
     "text": [
      "Assistant: As a beginner in tennis, focusing on a few key areas will help you develop a solid foundation and improve more quickly. Here are the most important things to concentrate on:\n",
      "\n",
      "### 1. **Grip and Stance**\n",
      "- **Grips**: Learn the basic grips (Eastern for forehand, continental for serve, and two-handed for backhand). A proper grip allows for better control and shot-making.\n",
      "- **Stance**: Develop a balanced and athletic stance. This means keeping your feet shoulder-width apart and bending your knees slightly to stay ready to move.\n",
      "\n",
      "### 2. **Basic Shots**\n",
      "- **Forehand and Backhand**: Focus on the mechanics of these two fundamental shots, ensuring that your swing is consistent and controlled. Start with slower, deliberate hits to build your technique.\n",
      "- **Serve**: Spend time practicing your serve. Getting a consistent toss and developing a proper motion is critical for effective serving.\n",
      "- **Volley**: Practice your volley technique at the net, using short, controlled movements instead of relying on full swings.\n",
      "\n",
      "### 3. **Footwork**\n",
      "- **Movement**: Work on your footwork, as being in the right position to hit the ball is essential. Practice moving efficiently to each shot—this includes side-to-side movements and stepping into your shots.\n",
      "- **Balance**: Ensure that you maintain your balance when hitting the ball, as this will improve your accuracy and control.\n",
      "\n",
      "### 4. **Consistency Over Power**\n",
      "- **Controlled Hitting**: Prioritize hitting the ball consistently rather than trying to hit it hard. Focus on finding a rhythm and placing the ball over the net and into play.\n",
      "- **Target Practice**: Aim for specific targets on the court to develop accuracy instead of just hitting to the general area.\n",
      "\n",
      "### 5. **Understanding Rules and Court Markings**\n",
      "- **Basic Rules**: Familiarize yourself with the basic rules of tennis, including scoring, serving order, and court dimensions.\n",
      "- **Court Awareness**: Learn the layout of the court and the meaning of the lines, such as baseline, service line, and sidelines.\n",
      "\n",
      "### 6. **Mental Game**\n",
      "- **Positive Mindset**: Focus on enjoying the learning process and maintain a positive attitude. It’s normal to make mistakes, especially as you are just starting.\n",
      "- **Patience**: Improvement takes time. Be patient with yourself as you develop your skills.\n",
      "\n",
      "### 7. **Enjoyment and Fun**\n",
      "- **Play Regularly**: The more you practice and play, the faster you will improve. Try to incorporate playing with different partners or groups to develop your skills in varied situations.\n",
      "- **Have Fun**: Remember that tennis is meant to be enjoyable! Celebrate your improvements, no matter how small.\n",
      "\n",
      "### 8. **Seek Feedback**\n",
      "- **Lessons**: If possible, take a few lessons from a qualified coach. They can provide personalized feedback and tips to improve your technique.\n",
      "- **Watch and Learn**: Observe experienced players, whether in person or through videos. Watch how they position themselves, their footwork, and shot production.\n",
      "\n",
      "By focusing on these areas, you'll build a strong foundation for your tennis skills. Enjoy your journey into this exciting sport! If you have any specific questions or need further advice, feel free to ask!\n"
     ]
    },
    {
     "name": "stdin",
     "output_type": "stream",
     "text": [
      "User:  What drills should I do on my own between lessons?\n"
     ]
    },
    {
     "name": "stdout",
     "output_type": "stream",
     "text": [
      "Assistant: Practicing on your own is a great way to reinforce the skills you learn in lessons and improve your overall game. Here are some drills you can do solo to work on different aspects of your tennis game:\n",
      "\n",
      "### 1. **Wall Hitting Drill**\n",
      "- **Objective**: Improve consistency and rallying skills.\n",
      "- **How to do it**: Find a wall or a rebound net. Stand about 10-15 feet away and hit the ball against the wall. Aim for a target area and try to maintain a consistent rally. Focus on both forehand and backhand shots.\n",
      "- **Tip**: Start slow and gradually increase the speed and intensity of your shots.\n",
      "\n",
      "### 2. **Shadow Swings**\n",
      "- **Objective**: Practice stroke mechanics without hitting a ball.\n",
      "- **How to do it**: Stand in front of a mirror or a video recording device. Practice your forehand, backhand, and serve motions without a ball. Pay attention to your grip, stance, and follow-through.\n",
      "- **Tip**: Focus on making your motions smooth and controlled, mimicking the ideal technique.\n",
      "\n",
      "### 3. **Ball Toss Practice**\n",
      "- **Objective**: Improve your serve toss.\n",
      "- **How to do it**: Stand in your serving position (using the continental grip) and practice tossing the ball straight up into the air. Aim for consistent height and direction, so it lands around your maximum reach not too far in front or behind you.\n",
      "- **Tip**: Work on a smooth, even toss rather than trying to force it upward.\n",
      "\n",
      "### 4. **Footwork Drills**\n",
      "- **Objective**: Enhance agility and court coverage.\n",
      "- **How to do it**: Set up cones or markers in a pattern (such as a triangle or square) and practice lateral movements between them, focusing on quick footwork and balance. You can also do ladder drills (using an agility ladder) for added footwork training.\n",
      "- **Tip**: Keep your knees bent and stay on the balls of your feet for improved response time.\n",
      "\n",
      "### 5. **Target Practice**\n",
      "- **Objective**: Enhance accuracy and shot placement.\n",
      "- **How to do it**: Place targets (like cones, hula hoops, or even towels) at various spots on the court or against the wall. Aim to hit those targets with your shots. Incorporate forehand and backhand angles, as well as volleys if you have a partner or wall.\n",
      "- **Tip**: Start close to your target, and as you get better, gradually increase the distance.\n",
      "\n",
      "### 6. **Service Practice**\n",
      "- **Objective**: Develop serving consistency and technique.\n",
      "- **How to do it**: Use a service box (you can mark it with cones if you're on a court) and practice your serve. Focus on getting the ball in the box first before gradually working on power and placement.\n",
      "- **Tip**: Aim for consistency first, aiming to land the ball in specific areas of the service box.\n",
      "\n",
      "### 7. **Ball Control Drills**\n",
      "- **Objective**: Develop touch and feel for the ball.\n",
      "- **How to do it**: Gently bounce a tennis ball against the ground and catch it with your non-dominant hand. Vary the height you bounce and the speed of the ball. Alternatively, try to keep the ball in the air by tapping it with your racket.\n",
      "- **Tip**: This drill helps improve your hand-eye coordination.\n",
      "\n",
      "### 8. **Fitness and Conditioning**\n",
      "- **Objective**: Improve overall fitness and endurance.\n",
      "- **How to do it**: Incorporate fitness drills such as jogging, sprinting, or interval training to enhance your cardiovascular fitness. Strength training (focus on core, legs, and arms) can also help improve your overall athleticism on the court.\n",
      "- **Tip**: Stay consistent with your fitness routine to support your tennis performance.\n",
      "\n",
      "### Final Thoughts\n",
      "Try to incorporate a mix of these drills into your practice sessions, focusing on different skills each time. Aim for at least 30 minutes of focused practice several times a week. Keep track of your progress and set small goals to keep you motivated. Enjoy your practice, and let me know if you have any questions or need further guidance!\n"
     ]
    },
    {
     "name": "stdin",
     "output_type": "stream",
     "text": [
      "User:  How can I track my progress over time?\n"
     ]
    },
    {
     "name": "stdout",
     "output_type": "stream",
     "text": [
      "Assistant: Tracking your progress in tennis can help you stay motivated and focused on areas that need improvement. Here are several methods you can use to effectively monitor your development over time:\n",
      "\n",
      "### 1. **Create a Practice Journal**\n",
      "- **Content**: Write down details of each practice session, including:\n",
      "  - Duration of practice\n",
      "  - Drills and exercises performed\n",
      "  - Skills focused on (e.g., forehand, serve)\n",
      "  - Achievements (e.g., hitting a target consistently)\n",
      "  - Areas needing improvement\n",
      "- **Frequency**: Review and reflect on your journal entries regularly to see your growth and challenges over time.\n",
      "\n",
      "### 2. **Set Goals**\n",
      "- **Short-term Goals**: Set specific, achievable goals for each practice session (e.g., “hit 20 forehands in a row” or “serve at least 10 balls in the box”).\n",
      "- **Long-term Goals**: Establish broader goals for your overall development (e.g., “improve my serve percentage by 10% in three months”).\n",
      "- **Review and Adjust**: Regularly assess your progress toward these goals and adjust them as needed based on your performance.\n",
      "\n",
      "### 3. **Record Your Matches**\n",
      "- **Video Analysis**: Film yourself while playing matches or training. Review the footage to analyze your technique, footwork, and decision-making.\n",
      "- **Match Stats**: Keep track of key statistics if you're able to play matches. Record things like first serve percentage, unforced errors, winners, and break points saved.\n",
      "\n",
      "### 4. **Use Technology**\n",
      "- **Apps and Software**: Explore apps that allow you to track your training sessions, matches, and statistics. Some popular tennis tracking apps include:\n",
      "  - **Tennis Trakker**\n",
      "  - **Stats Pusher**\n",
      "  - **Tennis Buddy**\n",
      "- **Wearable Technology**: If appropriate, use fitness trackers or smartwatches that can monitor your performance metrics like heart rate and movement patterns.\n",
      "\n",
      "### 5. **Assess Skills Regularly**\n",
      "- **Testing Routine**: Periodically perform skill assessments (e.g., serving accuracy, rally consistency) to measure improvement. Set a specific time frame (e.g., weekly or monthly) to repeat assessments and compare results.\n",
      "- **Feedback from Coaches**: If you’re taking lessons, ask your coach for feedback on your progress, where you’ve improved, and what areas need more work.\n",
      "\n",
      "### 6. **Participate in Tournaments**\n",
      "- **Track Competition Performance**: Playing in local tournaments can provide valuable experience and metrics (like match wins, types of losses, and personal performance under pressure).\n",
      "- **Set Competitive Goals**: Use your tournament experiences to set new performance targets for the next competitions.\n",
      "\n",
      "### 7. **Self-Reflection**\n",
      "- **Regular Reflection**: Set aside time weekly or monthly to reflect on your improvements and challenges. This could be a part of your practice journal.\n",
      "- **Stay Positive**: Celebrate small wins and acknowledge areas for improvement without being too hard on yourself.\n",
      "\n",
      "### 8. **Keep a Progress Chart**\n",
      "- **Visual Tracking**: Create a visual chart or graph to track specific metrics (like the number of serves in the box or rally consistency) over time. This can provide a visual representation of your growth.\n",
      "- **Color Coding**: Use different colors to indicate levels of accomplishment (e.g., red for goals not met, yellow for partial successes, green for goals met).\n",
      "\n",
      "By using a combination of these methods, you'll have a comprehensive view of your progress and be able to see your development as a player over time. Remember that improvement takes time and dedication, so stay patient and keep up the hard work! If you have any other questions or need further guidance, feel free to ask!\n"
     ]
    },
    {
     "name": "stdin",
     "output_type": "stream",
     "text": [
      "User:  What’s a common mistake beginners make that I should watch out for?\n"
     ]
    },
    {
     "name": "stdout",
     "output_type": "stream",
     "text": [
      "Assistant: As a beginner, there are several common mistakes that many players make. Being aware of these can help you avoid them and improve your game more effectively. Here are some of the most prevalent mistakes to watch out for:\n",
      "\n",
      "### 1. **Improper Grip**\n",
      "- **Mistake**: Using an incorrect grip can lead to poor shot execution and less control over the ball.\n",
      "- **Tip**: Take the time to learn the proper grips for different shots, like the Eastern grip for forehands and the continental grip for serves. Make sure your grip feels comfortable and allows for proper technique.\n",
      "\n",
      "### 2. **Neglecting Footwork**\n",
      "- **Mistake**: Many beginners stand flat-footed or are too stationary when hitting the ball, leading to poor positioning.\n",
      "- **Tip**: Focus on staying light on your feet with good balance. Work on your footwork to get into the right position before hitting the ball. Always be ready to move and adjust.\n",
      "\n",
      "### 3. **Overhitting**\n",
      "- **Mistake**: Trying to hit the ball too hard instead of focusing on control and consistency can lead to frequent errors.\n",
      "- **Tip**: Prioritize making solid contact with the ball and keeping it in play. Focus on your accuracy and control rather than sheer power, especially when starting out.\n",
      "\n",
      "### 4. **Not Following Through**\n",
      "- **Mistake**: Beginners often fail to follow through properly on their strokes, which can affect the direction and depth of their shots.\n",
      "- **Tip**: Always ensure that you follow through your swings, allowing your racket to finish high after a forehand or backhand. This helps with control and consistency.\n",
      "\n",
      "### 5. **Poor Serve Technique**\n",
      "- **Mistake**: Many beginners rush through their serve motion or have an inconsistent toss, leading to erratic serves.\n",
      "- **Tip**: Work on your serving motion in a controlled manner. Practice your ball toss to ensure it’s consistent and try to incorporate the correct serving mechanics.\n",
      "\n",
      "### 6. **Positioning for the Ball**\n",
      "- **Mistake**: Beginners often hit the ball too close to their body or not letting it come into their hitting zone (the ideal spot to make contact).\n",
      "- **Tip**: Practice good shot preparation by positioning yourself correctly to hit the ball at its peak height, typically in front of your body.\n",
      "\n",
      "### 7. **Inadequate Warm-up**\n",
      "- **Mistake**: Skipping warm-up exercises can lead to injuries and poor performance.\n",
      "- **Tip**: Always warm up before playing or practicing. Spend time doing dynamic stretches and hitting some easy shots to get your muscles ready.\n",
      "\n",
      "### 8. **Limited Shot Variety**\n",
      "- **Mistake**: Sticking to just one type of shot (e.g., only hitting forehands) can limit your development.\n",
      "- **Tip**: Work on a variety of shots, including volleys, serves, and both forehand and backhand groundstrokes. This will help you become a more versatile player.\n",
      "\n",
      "### 9. **Ignoring the Mental Game**\n",
      "- **Mistake**: Beginners often focus solely on physical skills while neglecting the mental aspects of the game.\n",
      "- **Tip**: Pay attention to your mental approach. Stay positive, practice visualization, and develop strategies to stay focused during matches.\n",
      "\n",
      "### 10. **Not Asking for Feedback**\n",
      "- **Mistake**: Many beginners hesitate to ask for help or feedback, which can hinder their progress.\n",
      "- **Tip**: Be proactive about seeking input from coaches, experienced players, or even feedback from recorded practice sessions. Constructive feedback can provide insights that enhance your game.\n",
      "\n",
      "### Final Thoughts\n",
      "Being aware of these common mistakes can help you focus on improving your technique and overall performance as you learn. Remember that making mistakes is part of the learning process; the key is to learn from them and incorporate that knowledge into your practice. Keep having fun and enjoy your time on the court! If you have any specific questions or need further help, feel free to reach out!\n"
     ]
    },
    {
     "name": "stdin",
     "output_type": "stream",
     "text": [
      "User:  So clearly it is heavily a mental game, How do I stay calm or reset after a mistake during a rally?\n"
     ]
    },
    {
     "name": "stdout",
     "output_type": "stream",
     "text": [
      "Assistant: Staying calm and resetting after a mistake during a rally is crucial for maintaining focus and improving your performance on the tennis court. Here are some strategies to help you handle mistakes and keep your mental game strong:\n",
      "\n",
      "### 1. **Breathing Techniques**\n",
      "- **Deep Breaths**: Take a deep breath in through your nose and exhale slowly through your mouth. This can help lower your heart rate and promote relaxation.\n",
      "- **Count Your Breaths**: Focus on counting your breaths (e.g., inhale for four counts, exhale for four counts), which can divert your attention from the mistake and help you regain focus.\n",
      "\n",
      "### 2. **Positive Self-Talk**\n",
      "- **Use Affirmations**: Replace negative thoughts with positive affirmations or reminders. For example, you can say to yourself, \"It's just one point\" or \"I can do this.\"\n",
      "- **Focus on the Next Point**: Shift your mindset to the upcoming point instead of dwelling on the last one. Remind yourself that every point is a fresh opportunity.\n",
      "\n",
      "### 3. **Develop a Ritual**\n",
      "- **Pre-Point Routine**: Create a consistent routine between points, such as adjusting your grip, bouncing the ball a certain number of times before serving, or wiping your forehead. This helps signal to your brain that it's time to reset.\n",
      "- **Visualization**: Take a moment to visualize your ideal shot or movement before the next rally. Imagine yourself executing the plan successfully.\n",
      "\n",
      "### 4. **Physical Reset**\n",
      "- **Walk It Off**: After making a mistake, take a few steps around the court area to physically reset your mental state.\n",
      "- **Stretch or Shake It Out**: Engage in a brief movement to release tension—stretch your arms or legs, or give your shoulders a quick shake to let go of frustration.\n",
      "\n",
      "### 5. **Emotional Acceptance**\n",
      "- **Acknowledge Mistakes**: Accept that mistakes are part of the game. Allowing yourself to feel the frustration briefly can help you move past it.\n",
      "- **Learning Mindset**: Focus on viewing mistakes as learning opportunities rather than failures. Ask yourself what you can learn from the situation.\n",
      "\n",
      "### 6. **Focus on the Process, Not the Outcome**\n",
      "- **Shift Attention**: Instead of worrying about winning or losing, concentrate on your performance and how you execute your shots. Keep your focus on the execution rather than the score.\n",
      "- **Break Down the Rally**: Think about simple aspects of your play (e.g., footwork or stroke mechanics) instead of the overall match outcome.\n",
      "\n",
      "### 7. **Stay Present**\n",
      "- **Mindfulness**: Practice staying present in the moment instead of worrying about past mistakes or future points. Concentrate on what you can control in that moment.\n",
      "- **Grounding Techniques**: Use sensory grounding techniques, like feeling the court under your feet, noticing the sounds around you, or focusing on your breathing.\n",
      "\n",
      "### 8. **Practice Resilient Mindset in Drills**\n",
      "- **Simulation**: During practice, set up scenarios where you need to recover from mistakes (e.g., have a partner intentionally try to exploit your weaknesses).\n",
      "- **Controlled Scrimmage**: In practice games, intentionally practice staying calm and focusing on the next point rather than dwelling on errors.\n",
      "\n",
      "### Final Thoughts\n",
      "Staying calm and maintaining focus after a mistake is a skill that takes time to develop. Regular practice and the use of these techniques will help you build resilience and improve your mental game. Remember, every player experiences mistakes; how you respond to them can greatly impact your overall performance. Keep learning, stay positive, and enjoy the journey in tennis! If you have more questions or need further assistance, feel free to reach out!\n"
     ]
    },
    {
     "name": "stdin",
     "output_type": "stream",
     "text": [
      "User:  Can I just be the doubles partner who stands there and vibes?\n"
     ]
    },
    {
     "name": "stdout",
     "output_type": "stream",
     "text": [
      "Assistant: Absolutely! Being a doubles partner who supports from the sideline is a valid and important role in the game. Tennis is a team sport in doubles, and there are several benefits and responsibilities that come with being a supportive partner, whether you’re actively participating or contributing from the side. Here’s how you can embrace that role effectively:\n",
      "\n",
      "### 1. **Positive Vibes and Encouragement**\n",
      "- **Support Your Partner**: Cheer for your partner’s good shots and encourage them after mistakes. A positive attitude can boost morale and enhance performance.\n",
      "- **Stay Engaged**: Show enthusiasm by staying focused on the match, even if your partner is taking the lead on most of the plays.\n",
      "\n",
      "### 2. **Good Communication**\n",
      "- **Verbal Cues**: Use helpful and clear communication during points, such as calling for shots, signaling intentions, or redirecting plays.\n",
      "- **Discuss Strategies**: Talk strategies during breaks between games. Discuss what’s working and what adjustments you can make as a team.\n",
      "\n",
      "### 3. **Anticipation and Positioning**\n",
      "- **Read the Game**: While standing back, you can still observe the match closely. Anticipate where your partner might need support or where the opposing team might attack.\n",
      "- **Positioning**: Sometimes, just being in the right mental space can make a difference. Position yourself so you can quickly engage with your partner when your presence is needed.\n",
      "\n",
      "### 4. **Contribute to Play**\n",
      "- **Take Turns**: If you feel comfortable, alternate playing a more active role during practice matches. You might surprise yourself with how much you enjoy it!\n",
      "- **Resist the Urge to Stand Still**: While it’s fine to enjoy the game, try to stay nimble and ready in case you need to jump in or help distract opponents.\n",
      "\n",
      "### 5. **Post-Match Reflection**\n",
      "- **Discuss the Game**: After matches, take some time to analyze what worked well and where you can improve as a team. Share insights and encourage each other to grow.\n",
      "- **Keep It Light**: Remember that tennis is meant to be fun. Keep the atmosphere relaxed, especially at recreational levels, even if you face challenges.\n",
      "\n",
      "### 6. **Bolster Team Spirit**\n",
      "- **Celebrate Together**: Celebrate your successes, no matter how small. High-fives, fist bumps, or just smiles can reinforce team spirit.\n",
      "- **Plan Social Activities**: Off the court, consider doing social activities together or bonding to enhance your relationship as teammates.\n",
      "\n",
      "### Final Thoughts\n",
      "Every role in doubles, including the supportive partner, is crucial for team dynamics. If you enjoy “standing there vibing,” make sure your presence is felt positively by your partner. Tennis can be as much about camaraderie and teamwork as it is about individual play. Remember, even if you are not the most active during the match, your emotional support and encouragement can make a big difference! If you have any more questions about doubles or anything else, feel free to ask!\n"
     ]
    },
    {
     "name": "stdin",
     "output_type": "stream",
     "text": [
      "User:  Can I count watching Wimbledon highlights as training?\n"
     ]
    },
    {
     "name": "stdout",
     "output_type": "stream",
     "text": [
      "Assistant: While watching Wimbledon highlights (or any tennis matches) may not be a substitute for physical training, it can certainly be a valuable part of your overall tennis development. Here’s how watching highlights can contribute to your training:\n",
      "\n",
      "### 1. **Learning Technique**\n",
      "- **Observe Stroke Mechanics**: Pay attention to players' grips, footwork, and stroke mechanics. Observing how professional players execute their shots can help you understand proper techniques to incorporate into your game.\n",
      "- **Analyze Different Styles**: Take note of how various players approach different shots and play styles. This can broaden your understanding of the game and inspire you to try new strategies.\n",
      "\n",
      "### 2. **Understanding Strategies**\n",
      "- **Match Tactics**: Watching matches allows you to see how players strategize based on their opponent’s weaknesses. Notice how they position themselves, choose shots, and respond during rallies.\n",
      "- **Situational Awareness**: Analyze decision-making, such as when players choose to serve and volley versus playing from the baseline. This can help you understand when to implement similar tactics in your play.\n",
      "\n",
      "### 3. **Mental Game**\n",
      "- **Observe Mental Resilience**: Watch how players handle pressure situations, make comebacks, and maintain focus. Take mental notes on how they recover from mistakes or frustrations.\n",
      "- **Study Body Language**: Notice how players communicate with their partners in doubles or how they express emotions. This can help you develop your own mental and emotional strategies for competition.\n",
      "\n",
      "### 4. **Staying Inspired**\n",
      "- **Motivation**: Watching high-level competition can reignite your passion for the game and motivate you to practice more.\n",
      "- **Identify Goals**: You might see players performing shots or executing strategies that resonate with you, prompting you to set goals for your own development.\n",
      "\n",
      "### 5. **Reviewing Match Context**\n",
      "- **Game Awareness**: Understand match contexts such as scoring, momentum shifts, and how players adapt to different surfaces or conditions, especially on a prestigious stage like Wimbledon.\n",
      "  \n",
      "### Tips for Watching Highlights Effectively\n",
      "- **Take Notes**: Jot down techniques or strategies you find interesting and might want to try during your next practice.\n",
      "- **Focus on Specific Aspects**: Select one or two elements to focus on in each match (like serve placement or return strategies) and analyze how different players approach them.\n",
      "- **Combine with Physical Practice**: Pair your viewing with practical exercises, such as practicing the shots you observed later on the court.\n",
      "\n",
      "### Final Thoughts\n",
      "In summary, while watching highlights isn't a replacement for on-court practice, it certainly provides a complementary learning opportunity. Enhancing your understanding of the game, techniques, and mental aspects can enrich your time spent training and ultimately improve your performance on the court. Enjoy the matches, and feel free to ask if you have any further questions or need specific insights!\n"
     ]
    },
    {
     "name": "stdin",
     "output_type": "stream",
     "text": [
      "User:  Do I really need to listen to you if my TikTok coach says something different?\n"
     ]
    },
    {
     "name": "stdout",
     "output_type": "stream",
     "text": [
      "Assistant: It's great that you're seeking out various sources of information and learning about tennis! The landscape of tennis instruction is vast, and different coaches, whether they are professionals or social media influencers, may have varying approaches and philosophies. Here are some points to consider when weighing advice from different sources, including TikTok:\n",
      "\n",
      "### 1. **Credibility and Expertise**\n",
      "- **Evaluate Credentials**: Consider the coach's background, experience, and qualifications. Professional coaches often have years of training and experience, while TikTok coaches may share tips based on their personal experience or opinions.\n",
      "- **Cross-Reference Information**: If you encounter conflicting advice, it may help to verify the tips you receive against reputable sources, like coaching manuals, videos from certified coaches, or well-respected tennis organizations.\n",
      "\n",
      "### 2. **Practical Application**\n",
      "- **Try It Out**: If a TikTok coach provides tips or drills, experiment with them in practice. If something works for you and helps improve your game, that's what ultimately matters, regardless of the source.\n",
      "- **Balance**: It’s okay to incorporate ideas from various sources, but find a balance between the different coaching styles. A mixed approach might help you develop a well-rounded game.\n",
      "\n",
      "### 3. **Consistency and Fundamentals**\n",
      "- **Foundation First**: Focus on foundational skills and proper technique initially, which is essential for long-term improvement. If a TikTok coach's suggestions conflict with established fundamentals, consider sticking to the latter until you become more advanced.\n",
      "- **Personal Preference**: Different styles resonate with different players. You may find that certain methods from various coaches align better with your learning style and comfort level.\n",
      "\n",
      "### 4. **Community and Feedback**\n",
      "- **Engage with Coaches**: If you have access to coaches, whether in person or online, don’t hesitate to ask for advice based on what you learn from TikTok or other sources. They might provide valuable context or corrective feedback.\n",
      "- **Connect with Peers**: Discussing techniques with fellow players can provide insights and confirm or challenge the information you've received.\n",
      "\n",
      "### 5. **Enjoy the Learning Process**\n",
      "- **Stay Open-Minded**: Embrace the variety of learning styles available, but focus on what you enjoy and what helps you improve. Tennis is a dynamic sport, and different perspectives can enrich your experience.\n",
      "- **Adaptability**: Be willing to adapt and evolve your game based on what you learn, but always return to the fundamental principles that ensure a strong foundation.\n",
      "\n",
      "### Final Thoughts\n",
      "Ultimately, you are in charge of your learning journey. It's essential to critically analyze and test the information you receive from all sources, including TikTok, and see what fits best with your tennis practice. If something resonates and works for you, that is valid! Stay curious, keep experimenting, and most importantly, enjoy playing tennis. If you have any specific questions or want to discuss a particular technique, feel free to ask!\n"
     ]
    },
    {
     "name": "stdin",
     "output_type": "stream",
     "text": [
      "User:  What if instead of drills, we just play… vibes only?\n"
     ]
    },
    {
     "name": "stdout",
     "output_type": "stream",
     "text": [
      "Assistant: Playing for \"vibes only\" is a fantastic way to enjoy tennis, especially if you're a beginner or looking to have fun while improving your game. Here’s how you can embrace a more relaxed, enjoyable approach to playing tennis:\n",
      "\n",
      "### 1. **Casual Play**\n",
      "- **Play for Fun**: Rather than focusing solely on drills or practice sessions, play matches or simply rally with friends or partners. Enjoy the back-and-forth without the pressure of competition.\n",
      "- **Make it Social**: Tennis can be a social activity—chatting, laughing, and enjoying each other's company will enhance the overall experience.\n",
      "\n",
      "### 2. **Focus on Enjoyment**\n",
      "- **Experiment with Shots**: Feel free to try out new shots, techniques, or spins. If you miss a few, that’s okay; the goal is to have fun and explore your abilities.\n",
      "- **Lighten Up**: Don’t worry about scores or winning. Just enjoy the game and celebrate the little victories, like hitting a good shot or having a fun rally.\n",
      "\n",
      "### 3. **Incorporate Playful Challenges**\n",
      "- **Game Variations**: Play modified games, such as \"King of the Court,” where players rotate in and out, or have fun with unusual challenges (e.g., hitting with your non-dominant hand).\n",
      "- **Creative Rules**: Create your own rules or scenarios that make the game interesting, such as only hitting underhand serves or requiring a certain number of volleys before scoring a point.\n",
      "\n",
      "### 4. **Listen to Music or Sounds**\n",
      "- **Musical Play**: If the setting permits, consider playing some music in the background (using portable speakers), as this can create a lively atmosphere and keep spirits high.\n",
      "- **Enjoy the Environment**: Absorb the sights and sounds around you as you play; appreciating the ambiance can enhance your experience.\n",
      "\n",
      "### 5. **Focus on Team Spirit in Doubles**\n",
      "- **Partner Vibes**: If you're playing doubles, emphasis teamwork and collaboration with your partner. Enjoy strategizing and pairing up to create fun plays.\n",
      "- **Celebrate Together**: Remind each other to celebrate great plays, regardless of whether they lead to winning points.\n",
      "\n",
      "### 6. **Physical and Mental Health Benefits**\n",
      "- **Stay Active**: Even when playing for fun, you're still getting valuable exercise. Keep moving and enjoy the health benefits that come with playing regularly.\n",
      "- **De-stress**: Using tennis as an outlet to unwind and have fun can help manage stress and promote a positive mindset.\n",
      "\n",
      "### Final Thoughts\n",
      "Playing \"vibes only\" can enhance your love for tennis while building confidence and comfort on the court. Embracing this relaxed attitude can foster a positive relationship with the sport and encourage a lifelong passion for playing. So grab your racket, find a partner, and enjoy the game without the pressure of drills or rigid practice routines! If you have further questions or want to explore more about tennis or any specific aspect of playing, feel free to ask!\n"
     ]
    },
    {
     "name": "stdin",
     "output_type": "stream",
     "text": [
      "User:  So then I can make up whatever rules I want. If the ball goes over the fence, that’s still in, right?\n"
     ]
    },
    {
     "name": "stdout",
     "output_type": "stream",
     "text": [
      "Assistant: Absolutely! When you're playing casually and embracing the \"vibes only\" approach, you can certainly make up your own rules to add fun and creativity to the game. If you and your partner agree that the ball going over the fence counts as \"in,\" then that’s part of your unique version of tennis! \n",
      "\n",
      "Playing with your own set of rules can lead to laughter, unexpected challenges, and a memorable experience. Here are some playful rule ideas you might consider:\n",
      "\n",
      "### Fun Rule Ideas\n",
      "1. **Silly Bounces**: Count a ball that hits a certain number of bounces as \"in\" even if it wouldn’t normally be playable.\n",
      "2. **Not-So-Serious Shots**: Designate certain shots (like underhand serves or backhand-only rallies) as the official shot for the day.\n",
      "3. **Crazy Circuit**: Create specific areas on the court where hitting the ball counts for more points (like side areas or specific service boxes).\n",
      "4. **Bonus Rallies**: If the ball hits any unusual object (like a bird or a nearby tree) and stays in the court, declare an automatic bonus point.\n",
      "5. **Costume Play**: Encourage fun outfits or themed games on certain days, where you have to hit in a specific way or use specific racquets.\n",
      "\n",
      "### Embrace Creativity\n",
      "- **Conversation**: Discuss these creative rules with your partner before playing to ensure everyone is on board.\n",
      "- **Experiment**: Use these rules to explore different aspects of your game and keep things light-hearted.\n",
      "\n",
      "### Important Note\n",
      "While fun rules can add excitement, just be sure that everyone is enjoying themselves and engaged. The aim is to create an enjoyable atmosphere where both players feel comfortable and can laugh irrespective of how many “real” points they score.\n",
      "\n",
      "In essence, if you and your partner have fun and enjoy the time spent on the court, you’ve succeeded in your tennis experience! Have a blast experimenting with your own unique rules! If you have any further questions or need ideas, just let me know!\n"
     ]
    },
    {
     "name": "stdin",
     "output_type": "stream",
     "text": [
      "User:  So are you saying we just should not care about the rules at all?? I am just going to learn something else more worth my time\n"
     ]
    },
    {
     "name": "stdout",
     "output_type": "stream",
     "text": [
      "Assistant: I understand where you're coming from! It's completely valid to feel frustrated with the traditional rules of tennis, especially if they feel too rigid or if your primary aim is to have fun. Here's a more balanced perspective on the topic:\n",
      "\n",
      "### Finding Balance\n",
      "1. **Mixing Fun and Structure**: While it can be refreshing to play without strict adherence to the rules, having a basic understanding of tennis rules can enrich your experience, especially if you decide to transition to more competitive games or matches in the future.\n",
      "\n",
      "2. **Engagement with the Game**: If you’re feeling that the conventional aspects of tennis aren’t engaging you, consider exploring other racquet sports or activities that might align more with your interests—like pickleball, badminton, or even a completely different sport.\n",
      "\n",
      "3. **Learning and Growth**: If you're interested in long-term development in tennis or any sport, the fundamentals matter. But it's okay to take breaks and focus on enjoyment without pressure. Casual play can still lead to improvement, even if you’re not adhering to traditional rules.\n",
      "\n",
      "4. **Community and Social Aspect**: Remember that tennis can also be a community-oriented sport. If you enjoy the social side more than adhering strictly to the rules, seek out players who share that mindset. Playing with like-minded individuals can enhance your enjoyment.\n",
      "\n",
      "### Exploring Other Options\n",
      "If you feel that tennis isn’t the right fit for your goals or interests right now, consider exploring:\n",
      "- **Different Sports**: Try out other racquet sports or different activities that align with your preferences.\n",
      "- **Hobbies**: Engage in hobbies that bring you joy, be it arts, music, or outdoor adventures.\n",
      "- **Team Sports**: Consider joining team sports where the social aspects and camaraderie might appeal to you more.\n",
      "\n",
      "### Final Thoughts\n",
      "Ultimately, the most important thing is to pursue activities that you enjoy and find fulfilling. If tennis feels like it’s not meeting those needs right now, that’s perfectly fine! Don't hesitate to explore other avenues. Sports and activities should ultimately bring enjoyment and satisfaction. If you have further questions or need insights into other activities, feel free to reach out!\n"
     ]
    }
   ],
   "source": [
    "config = {\"configurable\": {\"thread_id\": \"1\"}}\n",
    "\n",
    "def stream_graph_updates(user_input: str):\n",
    "    for event in graph.stream({\"messages\": [{\"role\": \"user\", \n",
    "                                             \"content\": user_input}]},\n",
    "                             config):\n",
    "        for value in event.values():\n",
    "            print(\"Assistant:\", value[\"messages\"][-1].content)\n",
    "\n",
    "\n",
    "\n",
    "while True:\n",
    "    try:\n",
    "        user_input = input(\"User: \")\n",
    "        if user_input.lower() in [\"quit\", \"exit\", \"q\"]:\n",
    "            print(\"Goodbye!\")\n",
    "            break\n",
    "        stream_graph_updates(user_input)\n",
    "    except:\n",
    "        # fallback if input() is not available\n",
    "        user_input = \"Who are you?\"\n",
    "        print(\"User: \" + user_input)\n",
    "        stream_graph_updates(user_input)\n",
    "        break"
   ]
  },
  {
   "cell_type": "markdown",
   "id": "3455f384-539d-490c-83b4-bd4e1d0e9e56",
   "metadata": {},
   "source": [
    "## Evaluation\n",
    "### Subjective Experience\n",
    "I think the experience was good in terms of extremely detailed responses. However, when I like to be tutored, I like to get concrete and concise answers that break things down and helps me understand what is correct. In this tutoring experience, the LLM was extremely malleable to what I was saying.\n",
    "At first, I was asking a lot of questions focusing on curiosity and openness before shifting to a more sassy tone and disengaging with the tutor. The LLM gave very well organized explanation and it was well formatted, so it was easy to follow the logic, but not necessarily how I think of a tutor-tutee conversation flowing. I wanted to switch the tone and seek a more relaxed conversation or even be a bit defiant in order to get a different style of coaching. However, I was not able to get the tutor off track. Instead, it just responded kindly and very structured again.\n",
    "### Other observations and quality of tutoring\n"
   ]
  },
  {
   "cell_type": "markdown",
   "id": "f726b5f1-d905-4a14-8d9f-418884654ad4",
   "metadata": {},
   "source": [
    "The user’s subjective experience throughout this tutoring session appears to evolve from curiosity and openness to mild resistance and disengagement. At the beginning, the user expresses genuine interest in learning tennis and is receptive to structured instruction. The assistant provides detailed, well-organized explanations with clear formatting, which likely makes the material feel accessible and supportive. However, as the session progresses, the user’s tone becomes more playful, skeptical, and even defiant—shifting from serious learner (“What are the most important things I should focus on?”) to resistant participant (“Can I just be the doubles partner who stands there and vibes?”). This change suggests that the user may have felt overwhelmed by the instructional density or was seeking a more relaxed, personalized, or humorous interaction style rather than continuous formal coaching.\n",
    "\n",
    "In terms of wording, the assistant’s responses consistently use structured lists, calm reassurance, and positive reinforcement (“That sounds great!”, “Enjoy your practice!”, “Have a blast experimenting”). These are hallmarks of supportive tutoring communication: nonjudgmental tone, encouragement, and scaffolding of information. However, at times the style leans toward overly formal and didactic—reading more like a manual than a dialogue. This can inadvertently distance a learner who signals disinterest or humor. When the user shifts to irreverent or sarcastic prompts, the assistant maintains professionalism but does not fully match the emotional tone or humor, missing opportunities to re-engage the student with lightness or empathy (“Absolutely! Being a doubles partner who supports from the sideline is a valid role” is kind but overly earnest given the user’s playful intent).\n",
    "\n",
    "Overall, the assistant demonstrates strong tutoring fundamentals—clear explanations, positivity, and patience—but limited adaptive communication. Effective tutoring requires not only accurate instruction but also emotional attunement. In this session, while the assistant remains composed and constructive, the lack of responsiveness to the user’s shifting affect (from enthusiasm to resistance) slightly undermines rapport. A more conversational, humorous, or validating response to the user’s late-session disengagement (“Sounds like you’re ready for freestyle tennis rules—just don’t tell Wimbledon!”) might have sustained engagement. Thus, while the assistant models textbook pedagogical clarity, it could improve its alignment with the learner’s tone and evolving motivation to maintain a genuinely interactive and motivating learning experience."
   ]
  }
 ],
 "metadata": {
  "kernelspec": {
   "display_name": "Python 3-12 (COMM4190)",
   "language": "python",
   "name": "python3-12_comm4190"
  },
  "language_info": {
   "codemirror_mode": {
    "name": "ipython",
    "version": 3
   },
   "file_extension": ".py",
   "mimetype": "text/x-python",
   "name": "python",
   "nbconvert_exporter": "python",
   "pygments_lexer": "ipython3",
   "version": "3.12.11"
  }
 },
 "nbformat": 4,
 "nbformat_minor": 5
}
