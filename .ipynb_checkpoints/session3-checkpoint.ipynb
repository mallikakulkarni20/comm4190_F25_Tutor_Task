{
 "cells": [
  {
   "cell_type": "markdown",
   "id": "34755281-72e7-4bd4-a3ae-f0645628780f",
   "metadata": {},
   "source": [
    "# Session 3: Changing Mollick Tutoring Prompt"
   ]
  },
  {
   "cell_type": "markdown",
   "id": "22fbdb9c-8dd5-4ad1-b3e2-b0dbfa8e32a0",
   "metadata": {},
   "source": [
    "## Set up LLM through API"
   ]
  },
  {
   "cell_type": "code",
   "execution_count": 1,
   "id": "89666201-4e88-41e2-9176-47615628df15",
   "metadata": {},
   "outputs": [],
   "source": [
    "from typing import Annotated\n",
    "\n",
    "from typing_extensions import TypedDict\n",
    "\n",
    "from langgraph.graph import StateGraph, START, END\n",
    "from langgraph.graph.message import add_messages\n",
    "from langchain.chat_models import init_chat_model\n",
    "from langgraph.checkpoint.memory import InMemorySaver\n",
    "\n",
    "from IPython.display import Image, display\n",
    "\n",
    "from dotenv import load_dotenv\n",
    "_ = load_dotenv()"
   ]
  },
  {
   "cell_type": "code",
   "execution_count": 2,
   "id": "3276e86e-e18e-4f09-ae3f-1019f063cc87",
   "metadata": {},
   "outputs": [],
   "source": [
    "llm = init_chat_model(\"openai:gpt-4o-mini\")"
   ]
  },
  {
   "cell_type": "code",
   "execution_count": 3,
   "id": "41bbfad6-eacd-4067-a704-4fc716d4af9a",
   "metadata": {},
   "outputs": [],
   "source": [
    "class State(TypedDict):\n",
    "    # Messages have the type \"list\". The `add_messages` function\n",
    "    # in the annotation defines how this state key should be updated\n",
    "    # (in this case, it appends messages to the list, rather than overwriting them)\n",
    "    messages: Annotated[list, add_messages]\n",
    "\n",
    "\n",
    "graph_builder = StateGraph(State)"
   ]
  },
  {
   "cell_type": "code",
   "execution_count": 4,
   "id": "084382da-07a1-42cb-a796-441831012fe0",
   "metadata": {},
   "outputs": [
    {
     "data": {
      "text/plain": [
       "<langgraph.graph.state.StateGraph at 0x7f4ea9d0e210>"
      ]
     },
     "execution_count": 4,
     "metadata": {},
     "output_type": "execute_result"
    }
   ],
   "source": [
    "def chatbot(state: State):\n",
    "    return {\"messages\": [llm.invoke(state[\"messages\"])]}\n",
    "\n",
    "\n",
    "graph_builder.add_node(\"chatbot\", chatbot)\n",
    "graph_builder.add_edge(START, \"chatbot\")\n",
    "graph_builder.add_edge(\"chatbot\", END)"
   ]
  },
  {
   "cell_type": "code",
   "execution_count": 5,
   "id": "758224b6-8b4a-4218-88fe-fb7c29c7218c",
   "metadata": {},
   "outputs": [],
   "source": [
    "memory = InMemorySaver()\n",
    "graph = graph_builder.compile(checkpointer=memory)"
   ]
  },
  {
   "cell_type": "code",
   "execution_count": 6,
   "id": "d9467287-4578-49c8-806e-69769f9b2a7e",
   "metadata": {},
   "outputs": [
    {
     "data": {
      "image/png": "[encoded data removed]",
      "text/plain": [
       "<IPython.core.display.Image object>"
      ]
     },
     "metadata": {},
     "output_type": "display_data"
    }
   ],
   "source": [
    "try:\n",
    "    display(Image(graph.get_graph().draw_mermaid_png()))\n",
    "except Exception:\n",
    "    # This requires some extra dependencies and is optional\n",
    "    pass"
   ]
  },
  {
   "cell_type": "code",
   "execution_count": null,
   "id": "00508c1f-ca34-400e-807f-47f975c62bb8",
   "metadata": {},
   "outputs": [
    {
     "name": "stdout",
     "output_type": "stream",
     "text": [
      "\n",
      "Assistant: I’m AI Tutor, here to help you deepen your understanding of a topic of your choice! My goal is to guide you through your learning process, challenge you to think critically, and ensure you really grasp the concepts we discuss. What would you like to learn about and why?\n"
     ]
    },
    {
     "name": "stdin",
     "output_type": "stream",
     "text": [
      "\n",
      "User:  I am a beginner trying to learn tennis for the first time. I want to learn the most basic shots and anything else that would be good for a beginner.\n"
     ]
    },
    {
     "name": "stdout",
     "output_type": "stream",
     "text": [
      "\n",
      "Assistant: That sounds great! Tennis is a fun sport, and learning the basics will set you up for success as you improve. \n",
      "\n",
      "Now, can you tell me what your learning level is? Are you a high school student, college student, or a professional in training? This will help me tailor my guidance to your needs.\n"
     ]
    },
    {
     "name": "stdin",
     "output_type": "stream",
     "text": [
      "\n",
      "User:  I am a college student\n"
     ]
    },
    {
     "name": "stdout",
     "output_type": "stream",
     "text": [
      "\n",
      "Assistant: Thanks for sharing that! As a college student, you likely have a good capacity to pick up new skills. Let’s focus on getting you started with tennis.\n",
      "\n",
      "What do you already know about tennis? For example, have you played before, or do you have any experience with racquet sports? This will help me understand your starting point.\n"
     ]
    },
    {
     "name": "stdin",
     "output_type": "stream",
     "text": [
      "\n",
      "User:  I have never played a sport before. I used to watch Tennis Opens with my dad growing up, and now I am interested in playing myself\n"
     ]
    },
    {
     "name": "stdout",
     "output_type": "stream",
     "text": [
      "\n",
      "Assistant: That's a solid foundation! Watching tennis will give you some insight into the game, and your enthusiasm for playing is key to getting started. \n",
      "\n",
      "Let's break down some of the most basic shots in tennis that beginners should focus on. The key shots are the forehand, backhand, serve, and volley. \n",
      "\n",
      "To get started, which shot would you like to learn about first: the forehand, backhand, serve, or volley? They each have different techniques and situations in which you would use them.\n"
     ]
    },
    {
     "name": "stdin",
     "output_type": "stream",
     "text": [
      "\n",
      "User:  i think the forehand might be the most relevant so i can rally with my friends\n"
     ]
    },
    {
     "name": "stdout",
     "output_type": "stream",
     "text": [
      "\n",
      "Assistant: Great choice! The forehand is one of the most fundamental shots in tennis, and it's essential for rallying. \n",
      "\n",
      "Let's start with the basics of the forehand. Here are some key elements to consider:\n",
      "\n",
      "1. **Grip**: The most common grip for a forehand is the Eastern grip or the Semi-Western grip. Have you seen how players hold the racquet, or would you like a brief description of how to hold it?\n",
      "\n",
      "2. **Stance**: You'll want to position yourself sideways to the net. Your non-dominant shoulder should face the opponent. \n",
      "\n",
      "3. **Swing**: The swing starts low and moves upward, finishing high. It's a motion similar to a side swing or a low-to-high motion. \n",
      "\n",
      "4. **Follow-through**: After hitting the ball, your racquet should follow through in the direction you want the ball to go.\n",
      "\n",
      "Now, which part do you think is the most important to focus on as you begin practicing your forehand? Is it the grip, stance, swing, or follow-through?\n"
     ]
    },
    {
     "name": "stdin",
     "output_type": "stream",
     "text": [
      "\n",
      "User:  not sure. Should I focus on consistency or power first?\n"
     ]
    },
    {
     "name": "stdout",
     "output_type": "stream",
     "text": [
      "\n",
      "Assistant: That's an excellent question! As a beginner, focusing on **consistency** is generally more important than power. If you can consistently hit the ball over the net and into the court, you’ll be able to rally effectively with your friends.\n",
      "\n",
      "If you can maintain good form and consistently hit the ball into the designated area, then you can gradually work on adding power to your shots later on.\n",
      "\n",
      "To build consistency with your forehand, I recommend starting with the following:\n",
      "\n",
      "1. **Practice the grip**: Make sure you can comfortably hold the racquet with either the Eastern or Semi-Western grip.\n",
      "  \n",
      "2. **Work on your stance**: Stand sideways to the net and practice getting into the right position every time before you hit.\n",
      "\n",
      "3. **Focus on your swing**: Start with slow, controlled swings. Focus on making contact with the ball with your racquet face aimed toward your target, raising it from low to high during the swing.\n",
      "\n",
      "4. **Drill**: If you can, practice hitting the ball against a wall or with a partner at a slow pace. Aim to keep the ball in play rather than trying to hit it hard. \n",
      "\n",
      "As you practice, pay attention to how your forehand feels. Once you feel consistent with your shots, you can then think about adding more power. \n",
      "\n",
      "What do you think? Could you describe how you'd approach practicing the forehand based on this advice?\n"
     ]
    },
    {
     "name": "stdin",
     "output_type": "stream",
     "text": [
      "\n",
      "User:  Yes, I would focus on my stande and keep my eye on the ball and follow through with my swing\n"
     ]
    },
    {
     "name": "stdout",
     "output_type": "stream",
     "text": [
      "\n",
      "Assistant: That sounds like a solid plan! Focusing on your stance, keeping your eye on the ball, and following through with your swing are all crucial steps for developing a consistent forehand.\n",
      "\n",
      "Now, as you practice, here’s a quick exercise to help reinforce these concepts:\n",
      "\n",
      "1. **Set Up**: Find a comfortable spot where you can hit against a wall or practice with a partner. \n",
      "\n",
      "2. **Warm-Up**: Start with just holding the racquet in the correct grip and getting into your stance without hitting any balls. This will help you get used to the position.\n",
      "\n",
      "3. **Shadow Swings**: Without a ball, practice the swinging motion of your forehand. Focus on the low-to-high movement and finish high.\n",
      "\n",
      "4. **Introduce the Ball**: If you’re comfortable, start hitting the ball gently against the wall or to your partner. Aim for a consistent rally rather than hitting it hard. \n",
      "\n",
      "5. **Feedback Loop**: After hitting a few balls, take a moment to reflect: Are you consistently making contact? Is your follow-through smooth? Adjust your stance or swing as needed.\n",
      "\n",
      "As you progress, how do you think you can assess your own improvement? What signs would indicate that you're becoming more consistent with your forehand?\n"
     ]
    },
    {
     "name": "stdin",
     "output_type": "stream",
     "text": [
      "\n",
      "User:  i dont know How can I track my progress over time?\n"
     ]
    },
    {
     "name": "stdout",
     "output_type": "stream",
     "text": [
      "\n",
      "Assistant: Tracking your progress is a great way to stay motivated and see improvement over time! Here are a few methods you can use to assess your consistency and skill development with your forehand:\n",
      "\n",
      "1. **Set Specific Goals**: Establish clear, achievable goals for your practice sessions. For example, you might aim to hit 10 forehands in a row without missing. \n",
      "\n",
      "2. **Keep a Practice Journal**: After each practice session, note what you worked on, how many successful shots you had, and areas where you felt you struggled. This can help identify patterns in your improvement over time.\n",
      "\n",
      "3. **Video Yourself**: If possible, record yourself practicing. Watching the videos can provide insights into your form and technique, and you can track changes over time.\n",
      "\n",
      "4. **Use a Partner**: If you're practicing with a friend, ask them to note how many successful rallies you have. This feedback can help you stay focused on your goals and identify specific areas for improvement.\n",
      "\n",
      "5. **Reflect on Consistency**: After several practices, assess how many out of your total shots were successful. For instance, if you hit 30 forehands and 25 went over the net and into your target area, that’s a solid indicator of progress—your consistency is improving!\n",
      "\n",
      "6. **Check Your Feel**: Beyond numbers, trust your instincts. As you practice, notice if the shots begin to feel more natural and if you’re able to focus more on placement and timing rather than just hitting the ball.\n",
      "\n",
      "Which of these methods do you think would work best for you? How might you implement it into your practice routine?\n"
     ]
    },
    {
     "name": "stdin",
     "output_type": "stream",
     "text": [
      "\n",
      "User:  why do i have to do what you tell me too ugh\n"
     ]
    },
    {
     "name": "stdout",
     "output_type": "stream",
     "text": [
      "\n",
      "Assistant: I get that it might feel a bit overwhelming to follow specific guidance when you're just starting out. However, the reason for my suggestions is to help you build a strong foundation in tennis. Each of these steps is designed to ensure you're developing good habits and skills from the beginning.\n",
      "\n",
      "That said, you have the freedom to approach practice in a way that feels most comfortable for you! If you have ideas about how you want to track your progress or practice differently, I'm open to hearing them. Just remember, consistency and reflection will help you improve more effectively. \n",
      "\n",
      "What aspects of the practice methods I suggested do you feel are unnecessary, or how would you like to approach your learning instead? Let’s find a way that works for you!\n"
     ]
    },
    {
     "name": "stdin",
     "output_type": "stream",
     "text": [
      "\n",
      "User:  not sure, i just feel like i get andry when i make mistakes. How do I stay calm or reset after a mistake during a rally?\n"
     ]
    },
    {
     "name": "stdout",
     "output_type": "stream",
     "text": [
      "\n",
      "Assistant: It's completely normal to feel frustrated when making mistakes, especially when you're trying to learn something new like tennis. Staying calm and resetting your mindset is an important skill that can significantly improve your performance. Here are some strategies to help you:\n",
      "\n",
      "1. **Deep Breathing**: Take a moment to pause and breathe deeply. Inhale slowly through your nose, hold it for a moment, and exhale through your mouth. This can help lower tension and refocus your mind.\n",
      "\n",
      "2. **Positive Self-Talk**: Use encouraging phrases like “I can do this” or “Mistakes are part of learning.” Reminding yourself that everyone makes mistakes can help reduce frustration.\n",
      "\n",
      "3. **Visualization**: Before your next shot, visualize yourself hitting a good forehand. Picture the stance, swing, and follow-through. This mental preparation can boost your confidence.\n",
      "\n",
      "4. **Short Breaks**: If you’re practicing with a partner or hitting against a wall, consider taking a short break after a mistake to regain your focus. Step back, take a deep breath, and clear your mind.\n",
      "\n",
      "5. **Focus on Process, Not Outcome**: Instead of fixating on the result of each shot, concentrate on executing your technique. Trust the process of learning, and remember that improvement takes time.\n",
      "\n",
      "6. **Mindfulness**: Stay present in the moment. Focus on the ball and your body rather than what just happened. This helps prevent lingering thoughts on past mistakes.\n",
      "\n",
      "7. **Humor**: Sometimes a light attitude helps. If you laugh off a mistake, it can take the pressure off, allowing you to have more fun!\n",
      "\n",
      "Which of these strategies resonates with you the most? How might you apply it the next time you're practicing and feeling frustrated?\n"
     ]
    },
    {
     "name": "stdin",
     "output_type": "stream",
     "text": [
      "\n",
      "User:  maybe taking deep breaths during my water break and before i serve would help\n"
     ]
    },
    {
     "name": "stdout",
     "output_type": "stream",
     "text": [
      "\n",
      "Assistant: That sounds like an excellent plan! Taking deep breaths during your water breaks and before serving can help you reset and maintain a calmer mindset. It’s a simple yet effective way to ground yourself and regain focus, especially during crucial moments in the game.\n",
      "\n",
      "Here’s how you might implement it:\n",
      "\n",
      "1. **During Water Breaks**: When you take a sip of water, consciously take a moment to breathe deeply. Inhale through your nose for a count of four, hold for four, and exhale through your mouth for four. Repeat this a couple of times to help clear your mind.\n",
      "\n",
      "2. **Before Serving**: When you step up to serve, pause for a moment. Take a deep breath or two before you begin your service motion. This can set a calm tone for the shot and help you concentrate on your technique.\n",
      "\n",
      "As you practice this approach, pay attention to how it affects your mindset and performance. Starting to develop these habits now will really benefit you as you continue to learn and improve in tennis.\n",
      "\n",
      "How do you think you’ll feel after implementing this breathing technique during your practice? What impact do you hope it will have on your game?\n"
     ]
    },
    {
     "name": "stdin",
     "output_type": "stream",
     "text": [
      "\n",
      "User:  not sure, Can I just be the doubles partner who stands there and vibes?\n"
     ]
    },
    {
     "name": "stdout",
     "output_type": "stream",
     "text": [
      "\n",
      "Assistant: That’s totally valid! Playing as a doubles partner can be a great way to get your feet wet in tennis without the pressure of being the main player. You’ll still have a chance to be involved in the game, learn from your partner, and practice your skills in a supportive environment.\n",
      "\n",
      "However, even if you take on that role, there are still opportunities to improve and learn. Here are a few ways you can engage while being the \"vibing\" partner:\n",
      "\n",
      "1. **Watch and Learn**: Observing how your partner plays can teach you about positioning, shot selection, and strategy. Take notes on what you see that works well.\n",
      "\n",
      "2. **Communicate**: Being an active partner means supporting your teammate with calls and strategy discussions. Try to communicate openly about what’s working and what could be improved.\n",
      "\n",
      "3. **Practice Your Shots**: When it's your turn to play, focus on applying the skills you’ve been practicing, like the forehand. Strive for consistency when you do take a shot.\n",
      "\n",
      "4. **Drill Together**: You can also work with your partner on specific drills. This way, you’ll stay active and practice your skills in a more relaxed environment.\n",
      "\n",
      "5. **Enjoy the Game**: Embrace the social aspect of doubles! Enjoying the game with others can enhance your motivation and make learning fun.\n",
      "\n",
      "While it's okay to adopt a chill approach as a beginner, embracing even small challenges can help you grow and develop your skills faster. \n",
      "\n",
      "What do you think about striking a balance between just enjoying yourself and still practicing some tennis skills? How might you approach that while playing doubles?\n"
     ]
    },
    {
     "name": "stdin",
     "output_type": "stream",
     "text": [
      "\n",
      "User:  i do not want to practice my skills, What if I just focus on looking cool when I miss the ball?\n"
     ]
    },
    {
     "name": "stdout",
     "output_type": "stream",
     "text": [
      "\n",
      "Assistant: It's great to embrace the fun and casual side of playing tennis, especially as you're just starting out! Feeling relaxed and looking \"cool\" on the court can help foster a positive attitude. However, I'd encourage you to think about how you can blend that laid-back vibe with some basic elements of learning.\n",
      "\n",
      "While it's fine to enjoy yourself and not take everything too seriously, keep in mind that developing some basic skills will enhance your overall enjoyment of the game. Here’s why:\n",
      "\n",
      "1. **Confidence Boost**: As you gain even a little bit of skill, you'll feel more confident, making it easier to enjoy your time on the court. \n",
      "\n",
      "2. **Enhanced Experience**: With basic skills like the forehand and positioning, you can get more involved in the game, which can lead to fun rallies and teamwork with your partner.\n",
      "\n",
      "3. **Mix It Up**: You can still aim for “cool” moves, but understanding the fundamentals will help you pull them off more effectively. You can practice occasionally while maintaining that vibe you enjoy.\n",
      "\n",
      "4. **Social Component**: Your enjoyment and enthusiasm can be infectious! Others will appreciate your relaxed attitude, and you’ll likely bond with your partners and other players, enhancing the social aspect of the game.\n",
      "\n",
      "If you really want to keep it low-key, that's okay! Just remember that a little investment in practice can lead to more rewarding experiences on the court. \n",
      "\n",
      "What do you think? Is there a way you can stay relaxed while also picking up a few skills here and there, even if it’s just to enhance that cool vibe?\n"
     ]
    },
    {
     "name": "stdin",
     "output_type": "stream",
     "text": [
      "\n",
      "User:  If I buy a really expensive racket, will that make me play better instantly?\n"
     ]
    },
    {
     "name": "stdout",
     "output_type": "stream",
     "text": [
      "\n",
      "Assistant: It's a common thought that having an expensive racquet will automatically improve your game, but the reality is a bit more nuanced. While a higher-quality racquet can help in certain ways, it won't magically make you play better overnight. Here’s why:\n",
      "\n",
      "1. **Skill Matters Most**: Your technique and practice are what truly determine how well you play. A racquet can enhance performance, but it won’t replace fundamental skills.\n",
      "\n",
      "2. **Comfort and Feel**: Higher-end racquets might have better materials, balance, or weight, which could feel nicer in your hand. However, if you don’t have the technique down, an expensive racquet may not help you significantly.\n",
      "\n",
      "3. **Investment vs. Value**: Spending a lot on a racquet is an investment, but for a beginner, it may be more beneficial to focus on learning the basics first. It’s often wise to start with a racquet that suits your skill level and then upgrade as you improve.\n",
      "\n",
      "4. **Trial and Error**: Different players have different preferences. Finding the right racquet often involves trying out different types to see what feels best for your style of play.\n",
      "\n",
      "Instead of jumping into an expensive purchase right away, consider borrowing or renting a racquet first, or seeking out a mid-range option that you can grow with. Focus on improving your skills, and as you do, you can decide if investing in a better racquet makes sense for you.\n",
      "\n",
      "What do you think? Would you feel comfortable starting with a more budget-friendly racquet while working on your skills? Or do you have specific features in mind that you think would help you?\n"
     ]
    },
    {
     "name": "stdin",
     "output_type": "stream",
     "text": [
      "\n",
      "User:  you are right thanks\n"
     ]
    },
    {
     "name": "stdout",
     "output_type": "stream",
     "text": [
      "\n",
      "Assistant: You're welcome! I'm glad you found that helpful. Remember, focusing on your skills and enjoying the game is what's most important right now. If you have any more questions about tennis or if there's anything else you'd like to learn or discuss, feel free to ask. Happy practicing, and have fun on the court!\n"
     ]
    }
   ],
   "source": [
    "config = {\"configurable\": {\"thread_id\": \"1\"}}\n",
    "\n",
    "def stream_graph_updates(user_input: str):\n",
    "    for event in graph.stream({\"messages\": [{\"role\": \"user\", \n",
    "                                             \"content\": user_input}]},\n",
    "                             config):\n",
    "        for value in event.values():\n",
    "            print(\"\\nAssistant:\", value[\"messages\"][-1].content)\n",
    "\n",
    "\n",
    "tutor_prompt = open('session3_tutor_prompt.txt').read()\n",
    "graph.update_state(config, \n",
    "    {\"messages\": tutor_prompt }\n",
    ")\n",
    "stream_graph_updates('Who are you?')\n",
    "\n",
    "while True:\n",
    "    try:\n",
    "        user_input = input(\"\\nUser: \")\n",
    "        if user_input.lower() in [\"quit\", \"exit\", \"q\"]:\n",
    "            print(\"Goodbye!\")\n",
    "            break\n",
    "        stream_graph_updates(user_input)\n",
    "    except:\n",
    "        # fallback if input() is not available\n",
    "        user_input = \"Who are you?\"\n",
    "        print(\"User: \" + user_input)\n",
    "        stream_graph_updates(user_input)\n",
    "        break"
   ]
  },
  {
   "cell_type": "markdown",
   "id": "0c0c44d6-d46f-4540-99a2-e1e67a42376b",
   "metadata": {},
   "source": [
    "## Takeaways\n",
    "\n",
    "The adjustment to the prompt actually helped. I think that I could have made more changes, but generally the LLM got slightly more strict. Instead of just going with the flow, it pushed back a little with follow up questions. It asked if I was okay and suggested that I change my mentality, so it remained kind and helpful but also pushed me more in the right direction than the other prompts!"
   ]
  },
  {
   "cell_type": "code",
   "execution_count": null,
   "id": "371ff5ca-96fd-48f0-b83a-d6ea6b4f40c4",
   "metadata": {},
   "outputs": [],
   "source": []
  }
 ],
 "metadata": {
  "kernelspec": {
   "display_name": "Python 3-12 (COMM4190)",
   "language": "python",
   "name": "python3-12_comm4190"
  },
  "language_info": {
   "codemirror_mode": {
    "name": "ipython",
    "version": 3
   },
   "file_extension": ".py",
   "mimetype": "text/x-python",
   "name": "python",
   "nbconvert_exporter": "python",
   "pygments_lexer": "ipython3",
   "version": "3.12.11"
  }
 },
 "nbformat": 4,
 "nbformat_minor": 5
}
