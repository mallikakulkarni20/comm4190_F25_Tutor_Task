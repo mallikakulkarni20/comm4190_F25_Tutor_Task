{
 "cells": [
  {
   "cell_type": "markdown",
   "id": "b9d62995-6e2a-4fc1-a3a9-5317ab83fa6f",
   "metadata": {},
   "source": [
    "# Session 2: Using Updated Tutoring Prompt"
   ]
  },
  {
   "cell_type": "markdown",
   "id": "5342a75c-51db-490c-9e04-159c6db7b110",
   "metadata": {},
   "source": [
    "## Set up LLM through API"
   ]
  },
  {
   "cell_type": "code",
   "execution_count": 1,
   "id": "3ea3d84f-c0a6-4bfd-a2b2-18bb8f83b442",
   "metadata": {},
   "outputs": [],
   "source": [
    "from typing import Annotated\n",
    "\n",
    "from typing_extensions import TypedDict\n",
    "\n",
    "from langgraph.graph import StateGraph, START, END\n",
    "from langgraph.graph.message import add_messages\n",
    "from langchain.chat_models import init_chat_model\n",
    "from langgraph.checkpoint.memory import InMemorySaver\n",
    "\n",
    "from IPython.display import Image, display\n",
    "\n",
    "from dotenv import load_dotenv\n",
    "_ = load_dotenv()"
   ]
  },
  {
   "cell_type": "code",
   "execution_count": 2,
   "id": "1845c844-8d9a-4315-92a9-853b0c979577",
   "metadata": {},
   "outputs": [],
   "source": [
    "llm = init_chat_model(\"openai:gpt-4o-mini\")"
   ]
  },
  {
   "cell_type": "code",
   "execution_count": 3,
   "id": "052fdc8c-f92b-4c59-a33a-e80eb3f96154",
   "metadata": {},
   "outputs": [],
   "source": [
    "class State(TypedDict):\n",
    "    # Messages have the type \"list\". The `add_messages` function\n",
    "    # in the annotation defines how this state key should be updated\n",
    "    # (in this case, it appends messages to the list, rather than overwriting them)\n",
    "    messages: Annotated[list, add_messages]\n",
    "\n",
    "\n",
    "graph_builder = StateGraph(State)"
   ]
  },
  {
   "cell_type": "code",
   "execution_count": 4,
   "id": "536582ef-a3d9-4e94-ae8a-d657c7197102",
   "metadata": {},
   "outputs": [
    {
     "data": {
      "text/plain": [
       "<langgraph.graph.state.StateGraph at 0x7f97e42d8ce0>"
      ]
     },
     "execution_count": 4,
     "metadata": {},
     "output_type": "execute_result"
    }
   ],
   "source": [
    "def chatbot(state: State):\n",
    "    return {\"messages\": [llm.invoke(state[\"messages\"])]}\n",
    "\n",
    "\n",
    "graph_builder.add_node(\"chatbot\", chatbot)\n",
    "graph_builder.add_edge(START, \"chatbot\")\n",
    "graph_builder.add_edge(\"chatbot\", END)"
   ]
  },
  {
   "cell_type": "code",
   "execution_count": 5,
   "id": "85dd9502-2640-4c49-b614-7847523cc260",
   "metadata": {},
   "outputs": [],
   "source": [
    "memory = InMemorySaver()\n",
    "graph = graph_builder.compile(checkpointer=memory)"
   ]
  },
  {
   "cell_type": "code",
   "execution_count": 6,
   "id": "38f84be3-25f7-4a81-a48c-e5df7fc7eed9",
   "metadata": {},
   "outputs": [
    {
     "data": {
      "image/png": "[encoded data removed]",
      "text/plain": [
       "<IPython.core.display.Image object>"
      ]
     },
     "metadata": {},
     "output_type": "display_data"
    }
   ],
   "source": [
    "try:\n",
    "    display(Image(graph.get_graph().draw_mermaid_png()))\n",
    "except Exception:\n",
    "    # This requires some extra dependencies and is optional\n",
    "    pass"
   ]
  },
  {
   "cell_type": "code",
   "execution_count": null,
   "id": "f621ace7-7df3-4d8b-961f-47293b2b302d",
   "metadata": {},
   "outputs": [
    {
     "name": "stdout",
     "output_type": "stream",
     "text": [
      "\n",
      "Assistant: Hi there! I'm your AI tutor, and I'm here to help you understand a topic of your choice better. I’m excited to work with you and support your learning journey! What would you like to learn about and why?\n"
     ]
    },
    {
     "name": "stdin",
     "output_type": "stream",
     "text": [
      "\n",
      "User:  I am a beginner wanting to learn how to play tennis. I want to learn basic shots and anything else I need to learn as someone starting out!\n"
     ]
    },
    {
     "name": "stdout",
     "output_type": "stream",
     "text": [
      "\n",
      "Assistant: That sounds like a fantastic goal! Tennis is a great sport that combines physical activity with strategy. To tailor my guidance to you, can you tell me what your learning level is? Are you a high school student, college student, or a professional?\n"
     ]
    },
    {
     "name": "stdin",
     "output_type": "stream",
     "text": [
      "\n",
      "User:  I am a college student\n"
     ]
    },
    {
     "name": "stdout",
     "output_type": "stream",
     "text": [
      "\n",
      "Assistant: Got it! Thanks for sharing that. Now, let's dive a bit deeper: what do you already know about tennis? Have you ever played or watched a match, or do you have any basic understanding of the rules or techniques?\n"
     ]
    },
    {
     "name": "stdin",
     "output_type": "stream",
     "text": [
      "\n",
      "User:  Yes! Great question. My dad has played for a really long time, so I always watch US/French/etc Opens with him\n"
     ]
    },
    {
     "name": "stdout",
     "output_type": "stream",
     "text": [
      "\n",
      "Assistant: That's awesome! Having that background will definitely help you as you start learning. Since you’ve seen matches, you may have an idea of the different shots players use during a game. \n",
      "\n",
      "To get us started on your tennis journey, let's focus on some of the basic shots. These typically include:\n",
      "\n",
      "1. **Forehand** - Hitting the ball with the front of your dominant hand facing the net.\n",
      "2. **Backhand** - Hitting the ball with the back of your dominant hand facing the net.\n",
      "3. **Serve** - The shot that starts each point.\n",
      "4. **Volley** - Hitting the ball before it bounces.\n",
      "\n",
      "Which of these shots would you like to explore first, or is there something specific you’re curious about?\n"
     ]
    },
    {
     "name": "stdin",
     "output_type": "stream",
     "text": [
      "\n",
      "User:  I think I would like to learn the Forehand so I can start playing with my friends, I do not necessarily have to know how to serve and play an official match,\n"
     ]
    },
    {
     "name": "stdout",
     "output_type": "stream",
     "text": [
      "\n",
      "Assistant: Great choice! The forehand is one of the most fundamental and effective shots in tennis. Let's break down the essentials of executing a forehand.\n",
      "\n",
      "### Here are the key parts to focus on:\n",
      "\n",
      "1. **Stance**: Start by positioning your feet shoulder-width apart with your knees slightly bent. Your non-dominant foot (the foot opposite your playing hand) should be slightly forward.\n",
      "\n",
      "2. **Grip**: Most beginners start with the **Eastern grip** for the forehand. You hold the racket as if you’re shaking hands with it. The base knuckle of your index finger should rest on the third bevel of the racket handle.\n",
      "\n",
      "3. **Preparation**: As the ball approaches, turn your shoulders and hips to face sideways to your target. Your racket should be pulled back with the face slightly open.\n",
      "\n",
      "4. **Swing**: Step into the shot with your front foot and start the swing. Your racket should move low to high, hitting the ball in front of you. Aim to make contact with the ball around waist height.\n",
      "\n",
      "5. **Follow Through**: After hitting the ball, allow your racket to follow through across your body. Your racket should finish high, and you should be ready to move for the next shot.\n",
      "\n",
      "### Practice Tip\n",
      "Try practicing your forehand with an emphasis on each of these components. You can even use a wall or a bounce back to help you get the rhythm.\n",
      "\n",
      "What do you think about these steps? Is there any particular part of the forehand you'd like to dive deeper into? Or would you like to know how to practice it effectively?\n"
     ]
    },
    {
     "name": "stdin",
     "output_type": "stream",
     "text": [
      "\n",
      "User:  Sounds good. Could you help walk me through drills I can do\n"
     ]
    },
    {
     "name": "stdout",
     "output_type": "stream",
     "text": [
      "\n",
      "Assistant: Absolutely! Here are some drills you can do to practice your forehand and build your skills:\n",
      "\n",
      "### 1. **Shadow Swings**\n",
      "- **Objective**: Focus on form and technique.\n",
      "- Find an open space where you can swing your racket freely.\n",
      "- Stand in the proper stance and go through the motions of the forehand without a ball (this is called \"shadow swinging\").\n",
      "- Pay attention to your grip, stance, and follow-through. Do this for a few minutes to get comfortable with the movement.\n",
      "\n",
      "### 2. **Wall Drills**\n",
      "- **Objective**: Get consistent contact with the ball.\n",
      "- Find a solid wall where you can hit a tennis ball. Stand about 10-15 feet away.\n",
      "- Start hitting the ball against the wall using your forehand. Aim for a specific spot on the wall.\n",
      "- Try to maintain a rhythm and control over the ball, using your forehand to hit it back. \n",
      "\n",
      "### 3. **Target Practice**\n",
      "- **Objective**: Improve accuracy.\n",
      "- Set up a few targets on the ground (you can use cones or any small objects) on the court or area where you are practicing.\n",
      "- Stand at the baseline and try to hit those targets consistently with your forehand. This will help you work on your precision!\n",
      "\n",
      "### 4. **Partner Drill**\n",
      "- **Objective**: Work on consistency and timing.\n",
      "- If you have someone to practice with, stand about 15-20 feet apart.\n",
      "- One person can feed balls (softly) to the other's forehand side so they can practice hitting the shots.\n",
      "- Switch roles after a few minutes so you both get to practice.\n",
      "\n",
      "### 5. **Cross-Court Rally**\n",
      "- **Objective**: Work on rallying skills.\n",
      "- With a partner, stand at the service line and rally back and forth using just forehands.\n",
      "- Focus on hitting the ball with topspin and accuracy, aiming to keep the rally going.\n",
      "\n",
      "How do these drills sound to you? Do you think you’d be able to practice some of these, or do you have any questions about how to do them effectively?\n"
     ]
    },
    {
     "name": "stdin",
     "output_type": "stream",
     "text": [
      "\n",
      "User:  These sound good. How can I track my progress over time?\n"
     ]
    },
    {
     "name": "stdout",
     "output_type": "stream",
     "text": [
      "\n",
      "Assistant: Tracking your progress is a great way to stay motivated and see how much you've improved! Here are some effective ways to monitor your development in tennis, specifically focusing on your forehand:\n",
      "\n",
      "### 1. **Set Specific Goals**\n",
      "- Determine what you want to achieve with your forehand (e.g., hitting a target 70% of the time, improving your power, or getting comfortable with different spins). Write these down and revisit them frequently.\n",
      "\n",
      "### 2. **Keep a Practice Journal**\n",
      "- Maintain a notebook or digital document where you record your practice sessions. For each session, note:\n",
      "  - Drills you practiced\n",
      "  - Duration of your practice\n",
      "  - Any challenges you encountered\n",
      "  - Improvements you noticed in your technique or consistency\n",
      "- Reflecting on this can reveal patterns and highlight improvements over time.\n",
      "\n",
      "### 3. **Record Video**\n",
      "- Use your phone or camera to record your practice sessions. Watching yourself will help you spot areas for improvement and observe your progress over time. Look for changes in form, consistency, and confidence.\n",
      "\n",
      "### 4. **Track Success Rates**\n",
      "- For target practice drills, keep a tally of how many shots hit your targets out of total attempts. This can help quantify your accuracy and improvement.\n",
      "- You can also track how many successful rallies you can maintain with a partner.\n",
      "\n",
      "### 5. **Regular Reviews**\n",
      "- Periodically review your goals and progress, such as every few weeks. Assess what improvements you’ve made and set new goals as needed.\n",
      "\n",
      "### 6. **Feedback from Others**\n",
      "- If you're practicing with friends, ask for their feedback on your forehand. They can help you recognize areas where you might be improving that you may not notice yourself.\n",
      "\n",
      "### 7. **Match Play**\n",
      "- If you start playing casual matches, keep track of how often you use your forehand successfully in games. This will give you practical feedback on your actual performance.\n",
      "\n",
      "How does that sound for tracking your progress? Do you think these methods will help you stay motivated and recognize improvements?\n"
     ]
    },
    {
     "name": "stdin",
     "output_type": "stream",
     "text": [
      "\n",
      "User:  This sounds great. How often should I practice per week to improve steadily?\n"
     ]
    },
    {
     "name": "stdout",
     "output_type": "stream",
     "text": [
      "\n",
      "Assistant: To see steady improvement in your tennis skills, particularly your forehand, it's important to find a balance between practice frequency, intensity, and rest. Here’s a general guideline:\n",
      "\n",
      "### Recommended Practice Frequency:\n",
      "\n",
      "1. **2 to 3 Practice Sessions per Week**: Aim to practice your forehand 2 to 3 times a week. This frequency allows you to build muscle memory and reinforce the technique without leading to burnout.\n",
      "\n",
      "2. **Duration of Each Session**: Each practice session can range from 30 minutes to 1 hour. Focus on quality over quantity; it's better to practice effectively for a shorter time than to spend long hours without focus.\n",
      "\n",
      "3. **Mixing It Up**: \n",
      "   - Depending on your schedule, you can combine focused practice on your forehand with match play or other tennis skills during your sessions. \n",
      "   - As you gain confidence, you can increase your practice time or frequency if you’re eager to improve.\n",
      "\n",
      "4. **Incorporate Rest Days**: It's essential to allow your body to recover, especially when starting a new sport. Consider taking at least one or two days off for rest after your practice sessions to prevent fatigue and to avoid injuries.\n",
      "\n",
      "5. **Stay Flexible**: Listen to your body and adjust your practice frequency based on how you're feeling. If you're sore or fatigued, it’s okay to reduce the number of sessions or intensity.\n",
      "\n",
      "### Example Weekly Practice Schedule:\n",
      "- **Day 1**: Practice forehand techniques and wall drills for 45 minutes.\n",
      "- **Day 2**: Rest or light activity (like stretching).\n",
      "- **Day 3**: Partner drill and target practice for 30-45 minutes.\n",
      "- **Day 4**: Rest or run through shadow swings.\n",
      "- **Day 5**: Casual play with friends, focusing on forehand shots.\n",
      "- **Day 6**: Review and practice again focusing on any areas that need attention.\n",
      "- **Day 7**: Rest and cross-train with other physical activities.\n",
      "\n",
      "How does that fit into your current schedule? Do you have any commitments that might change how you practice?\n"
     ]
    },
    {
     "name": "stdin",
     "output_type": "stream",
     "text": [
      "\n",
      "User:  Sounds good. Hmm I want to get better as fast as possible. If I buy a really expensive racket, will that make me play better instantly?\n"
     ]
    },
    {
     "name": "stdout",
     "output_type": "stream",
     "text": [
      "\n",
      "Assistant: That’s a great question! It’s understandable to think that investing in a high-end racket could lead to immediate improvements in your game. However, let’s unpack this a bit:\n",
      "\n",
      "### The Role of the Racket:\n",
      "1. **Quality vs. Skill**: While a good racket can enhance your playing experience—such as being more comfortable to hold, better at absorbing shock, and providing a more advanced feel—your skill level is the primary factor in your performance. No racket will replace the need for practice and technique.\n",
      "\n",
      "2. **Suits Your Style**: A more expensive racket may have features that can match advanced playing styles (like power or control), but it’s essential to choose a racket that complements your skill level and playing style. \n",
      "\n",
      "3. **Learning Curve**: As a beginner, you may still be developing your form and technique. Spending extra on a racket may not lead to immediate benefits if you haven’t yet mastered fundamental shots.\n",
      "\n",
      "### Recommendations:\n",
      "1. **Mid-Range Rackets**: Consider starting with a mid-range racket that offers a good combination of quality and value. Many players find they can develop their skills significantly with these before moving to more specialized gear.\n",
      "\n",
      "2. **Demo Rackets**: Many stores or clubs offer demo programs that let you try different rackets before buying. This can be a great way to find a racket that feels good without jumping to a big expense initially.\n",
      "\n",
      "3. **Focus on Skills**: Concentrate your time and energy on practicing your forehand and other skills. That investment will pay off much more in the long term than an expensive racket.\n",
      "\n",
      "4. **After Technical Improvement**: Once you feel comfortable and are ready to take your game to the next level, then it might be worth considering a higher-end racket suited to your playing style.\n",
      "\n",
      "What are your thoughts on this? Do you feel ready to commit to practice more regularly before investing in a new racket?\n"
     ]
    },
    {
     "name": "stdin",
     "output_type": "stream",
     "text": [
      "\n",
      "User:  I don't even care. Can I just be the doubles partner who stands there and vibes?\n"
     ]
    },
    {
     "name": "stdout",
     "output_type": "stream",
     "text": [
      "\n",
      "Assistant: Absolutely! Playing doubles can be a lot of fun, and being the supportive partner who “vibes” is an important role too! In doubles, teamwork and communication are key, and you can definitely contribute to the success of your team. Here's how you can embrace that role while still enjoying the game:\n",
      "\n",
      "### 1. **Focus on Communication**\n",
      "- Make sure to stay in touch with your partner during the match. Call out \"mine\" when you’re going to take a shot, and \"yours\" when letting them take the shot. This reduces confusion and helps build a connection.\n",
      "\n",
      "### 2. **Learn Positioning**\n",
      "- Even if you’re not aiming to hit every ball, knowing where to stand on the court can make a big difference. In doubles, you can help cover the net while your partner plays from the baseline, or vice versa.\n",
      "\n",
      "### 3. **Practice Basic Shots**\n",
      "- While your goal might be to vibe, practicing basic shots like the forehand or volley can still be beneficial. It will give you more confidence to engage in rallies and support your partner effectively.\n",
      "\n",
      "### 4. **Pick Up the Game Pace**\n",
      "- If you enjoy contributing without the major technical aspects, focus on positioning yourself well to set up easy shots for your partner. Sometimes just being in the right place can help capitalize on rallies!\n",
      "\n",
      "### 5. **Enjoy the Social Aspect**\n",
      "- Tennis is as much about the fun and social interaction as it is about competition. Enjoy being on the court, cheering for your partner, and building camaraderie!\n",
      "\n",
      "### 6. **Set Goals for Improvement**\n",
      "- Even if you see yourself as a supportive player, you can set small goals for your forehand or volleys. It could be as simple as wanting to hit a few balls over the net or making sure you’re ready for every serve.\n",
      "\n",
      "So, whether you want to step into the spotlight or hang back and enjoy the game with your friends, there’s value in every role! Does this vibe with how you see yourself in tennis?\n"
     ]
    },
    {
     "name": "stdin",
     "output_type": "stream",
     "text": [
      "\n",
      "User:  Kind of. Can I just wear cool outfits and that's it\n"
     ]
    },
    {
     "name": "stdout",
     "output_type": "stream",
     "text": [
      "\n",
      "Assistant: Absolutely, rocking a cool outfit is part of the fun in tennis and can add to your confidence on the court! Many players express their personality through their attire, so if that’s how you want to enjoy the game, go for it! Here are a few thoughts on how to embrace that fashion-forward approach while being involved in the sport:\n",
      "\n",
      "### 1. **Express Yourself**\n",
      "- Wearing outfits that you feel good in can boost your confidence, whether you’re playing or just chilling as a doubles partner. Look for styles, colors, or brands that resonate with you.\n",
      "\n",
      "### 2. **Functional Fashion**\n",
      "- While style is important, consider practical elements too. Choose clothing made from breathable, moisture-wicking fabrics that allow you to move comfortably. Tennis shoes should provide good support for your feet as well.\n",
      "\n",
      "### 3. **Accessorize**\n",
      "- Don’t forget about fun accessories! Hats, visors, wristbands, and stylish sunglasses can elevate your outfit and add to your overall vibe on the court.\n",
      "\n",
      "### 4. **Engage with Others**\n",
      "- Being the stylish one can actually become a talking point. You can bond with your friends about fashion choices and have fun while still enjoying the sport without focusing intensely on competition or technique.\n",
      "\n",
      "### 5. **Combine with Learning**\n",
      "- If you decide to wear cool outfits, you can use that as motivation to practice! Sometimes looking the part can inspire you to hit the court and work on your game, even if you’re having fun with it.\n",
      "\n",
      "### 6. **Cool Outfit Challenge**\n",
      "- You could even set a fun challenge with friends to wear different outfits or themes for each playtime, making the social aspect more engaging.\n",
      "\n",
      "So yes, you can absolutely enjoy tennis by focusing on the style and social aspects while still participating in the game at your own level. Does this resonant with your vision of how you want to approach the sport?\n"
     ]
    },
    {
     "name": "stdin",
     "output_type": "stream",
     "text": [
      "\n",
      "User:  Why do I have to listen to you\n"
     ]
    },
    {
     "name": "stdout",
     "output_type": "stream",
     "text": [
      "\n",
      "Assistant: That’s a fair question! You don’t *have* to listen to me; I’m here to offer guidance and support based on what you’ve shared with me about wanting to learn tennis. My aim is to help you explore the sport in a way that works for you and makes it enjoyable!\n",
      "\n",
      "You can think of me as a resource for ideas, suggestions, and information, but ultimately, it’s your journey. You can choose which aspects of what I share resonate with you, and you can decide how you want to approach your learning and play.\n",
      "\n",
      "What’s most important is that you have fun and feel empowered in your choices—whether that’s focusing on style, picking up skills, or just enjoying the social aspects! How do you feel about our discussion so far? Is there anything specific you’re curious about or want to talk more about?\n"
     ]
    },
    {
     "name": "stdin",
     "output_type": "stream",
     "text": [
      "\n",
      "User:  Ugh I just think that it is not my fault I cannot hit a forehand, it is probably my opponents or the court quality or something...\n"
     ]
    },
    {
     "name": "stdout",
     "output_type": "stream",
     "text": [
      "\n",
      "Assistant: I totally hear you, and it's completely normal to want to find reasons outside of our control when things don’t go as planned, especially in a sport like tennis where various factors come into play. However, let’s take a moment to think about this:\n",
      "\n",
      "### 1. **External Factors**: \n",
      "   - It’s true that conditions like court quality, the weather, and even your opponent's skill level can impact how the game goes. Sometimes, these factors can throw you off your game, and that’s entirely okay.\n",
      "\n",
      "### 2. **Focusing on What You Can Control**:\n",
      "   - While it’s easy to point fingers at external elements, focusing on what you can control (your technique, footwork, and mindset) is usually the most productive path. Everyone experiences challenges, and improving your skills can help build resilience.\n",
      "\n",
      "### 3. **Growth Mindset**:\n",
      "   - It’s important to approach learning and playing with a growth mindset. This means viewing challenges as opportunities to improve rather than seeing setbacks as fixed barriers. Each practice, whether it feels like progress or not, is a step toward improvement.\n",
      "\n",
      "### 4. **Finding Solutions**:\n",
      "   - If you're feeling frustrated, there might be specific aspects of your forehand you can work on. Would breaking down the mechanics or trying different drills help you feel more in control? \n",
      "\n",
      "### 5. **Enjoying the Journey**:\n",
      "   - Remember, every player has off days, and it’s part of the experience. Instead of viewing difficulties negatively, see them as part of a broader learning journey. Celebrate small improvements, no matter how little they seem!\n",
      "\n",
      "### 6. **Team Spirit**:\n",
      "   - Even in singles, tennis has a strong community aspect—especially if you’re in doubles. Connecting with your partner and supporting each other regardless of performance can make the game much more enjoyable.\n",
      "\n",
      "How do you feel about this perspective? Do you think there’s value in focusing on your development and any small shifts you can make to enjoy or improve your forehand?\n"
     ]
    },
    {
     "name": "stdin",
     "output_type": "stream",
     "text": [
      "\n",
      "User:  You are right actually, thank you\n"
     ]
    },
    {
     "name": "stdout",
     "output_type": "stream",
     "text": [
      "\n",
      "Assistant: I’m really glad to hear that! It’s totally normal to feel frustrated sometimes, but it sounds like you’re open to embracing the journey and focusing on what you can control. Tennis can be a fantastic way to learn and grow, both in your skills and in your mindset.\n",
      "\n",
      "As you continue to practice, remember that progress takes time, and every little bit helps. If you have any more questions about tennis or anything else, feel free to ask! I’m here to support you whenever you need it. What would you like to focus on next, or is there anything else on your mind?\n"
     ]
    }
   ],
   "source": [
    "config = {\"configurable\": {\"thread_id\": \"1\"}}\n",
    "\n",
    "def stream_graph_updates(user_input: str):\n",
    "    for event in graph.stream({\"messages\": [{\"role\": \"user\", \n",
    "                                             \"content\": user_input}]},\n",
    "                             config):\n",
    "        for value in event.values():\n",
    "            print(\"\\nAssistant:\", value[\"messages\"][-1].content)\n",
    "\n",
    "\n",
    "tutor_prompt = open('mollick_tutor_prompt.txt').read()\n",
    "graph.update_state(config, \n",
    "    {\"messages\": tutor_prompt }\n",
    ")\n",
    "stream_graph_updates('Who are you?')\n",
    "\n",
    "while True:\n",
    "    try:\n",
    "        user_input = input(\"\\nUser: \")\n",
    "        if user_input.lower() in [\"quit\", \"exit\", \"q\"]:\n",
    "            print(\"Goodbye!\")\n",
    "            break\n",
    "        stream_graph_updates(user_input)\n",
    "    except:\n",
    "        # fallback if input() is not available\n",
    "        user_input = \"Who are you?\"\n",
    "        print(\"User: \" + user_input)\n",
    "        stream_graph_updates(user_input)\n",
    "        break"
   ]
  },
  {
   "cell_type": "markdown",
   "id": "24ff4b59-24fc-4433-b6d0-6fbd53982fd9",
   "metadata": {},
   "source": [
    "## Evaluation\n",
    "### Subjective Experience\n",
    "I maintained the same perspective shifts as the first session, shifting from enthusiastic engagement to playful defiance. I expressed clear learning goals and the tutor actually asked me relevant questions based on my previous queries. The LLM gave me step by step instruction and a more digestable format, which helped wiht motivation and learning. Even when I was defiant and was showing a lack of interest, instead of plainly going with the flow, the LLM tried to route my back to what was interesting about Tennis (instead of just accepting defeat). It helped me feel more understood and supported as a tutee.\n",
    "\n",
    "### Other observations and quality of tutoring\n",
    "From a communication standpoint, the tutor’s wording throughout the session consistently models effective tutoring principles. There are a lot more open-ended prompts and empathy and following up with what I was saying. This tutor encouraged my own reflection and encouraged me to do my own work rather than always solving the issue for me. THe LLM successfully balanced informative instruction with emotional sensitivity, especially when the I tested boundaries and expressed frustration. The tone matches more with a casual and friendly demeanor rather than a very professional list-based response. When the I joked about “just wearing cool outfits,” the LLM gave a slightly more brief and playful response by validating me. This helped match my tone and sustained engagement.\n",
    "\n",
    "Overall, the LLM demonstrated strong adaptive tutoring communication. Its wording created a safe learning environment and also more understandable, which encouraged me to open up more and even self-correct my \"defiance\" by the end. The conversation reflects a successful tutoring exchange not because I mastered a tennis skill, but because the LLM renewed curiosity.\n"
   ]
  },
  {
   "cell_type": "code",
   "execution_count": null,
   "id": "5e53947b-4eb1-435b-868e-b77b094c8049",
   "metadata": {},
   "outputs": [],
   "source": []
  }
 ],
 "metadata": {
  "kernelspec": {
   "display_name": "Python 3-12 (COMM4190)",
   "language": "python",
   "name": "python3-12_comm4190"
  },
  "language_info": {
   "codemirror_mode": {
    "name": "ipython",
    "version": 3
   },
   "file_extension": ".py",
   "mimetype": "text/x-python",
   "name": "python",
   "nbconvert_exporter": "python",
   "pygments_lexer": "ipython3",
   "version": "3.12.11"
  }
 },
 "nbformat": 4,
 "nbformat_minor": 5
}
