{
 "cells": [
  {
   "cell_type": "markdown",
   "id": "b9d62995-6e2a-4fc1-a3a9-5317ab83fa6f",
   "metadata": {},
   "source": [
    "# Session 1: Using Updated Tutoring Prompt"
   ]
  },
  {
   "cell_type": "markdown",
   "id": "5342a75c-51db-490c-9e04-159c6db7b110",
   "metadata": {},
   "source": [
    "## Set up LLM through API"
   ]
  },
  {
   "cell_type": "code",
   "execution_count": null,
   "id": "3ea3d84f-c0a6-4bfd-a2b2-18bb8f83b442",
   "metadata": {},
   "outputs": [],
   "source": [
    "from typing import Annotated\n",
    "\n",
    "from typing_extensions import TypedDict\n",
    "\n",
    "from langgraph.graph import StateGraph, START, END\n",
    "from langgraph.graph.message import add_messages\n",
    "from langchain.chat_models import init_chat_model\n",
    "from langgraph.checkpoint.memory import InMemorySaver\n",
    "\n",
    "from IPython.display import Image, display\n",
    "\n",
    "from dotenv import load_dotenv\n",
    "_ = load_dotenv()"
   ]
  },
  {
   "cell_type": "code",
   "execution_count": null,
   "id": "1845c844-8d9a-4315-92a9-853b0c979577",
   "metadata": {},
   "outputs": [],
   "source": [
    "llm = init_chat_model(\"openai:gpt-4o-mini\")"
   ]
  },
  {
   "cell_type": "code",
   "execution_count": null,
   "id": "052fdc8c-f92b-4c59-a33a-e80eb3f96154",
   "metadata": {},
   "outputs": [],
   "source": [
    "class State(TypedDict):\n",
    "    # Messages have the type \"list\". The `add_messages` function\n",
    "    # in the annotation defines how this state key should be updated\n",
    "    # (in this case, it appends messages to the list, rather than overwriting them)\n",
    "    messages: Annotated[list, add_messages]\n",
    "\n",
    "\n",
    "graph_builder = StateGraph(State)"
   ]
  },
  {
   "cell_type": "code",
   "execution_count": null,
   "id": "536582ef-a3d9-4e94-ae8a-d657c7197102",
   "metadata": {},
   "outputs": [],
   "source": [
    "def chatbot(state: State):\n",
    "    return {\"messages\": [llm.invoke(state[\"messages\"])]}\n",
    "\n",
    "\n",
    "graph_builder.add_node(\"chatbot\", chatbot)\n",
    "graph_builder.add_edge(START, \"chatbot\")\n",
    "graph_builder.add_edge(\"chatbot\", END)"
   ]
  },
  {
   "cell_type": "code",
   "execution_count": null,
   "id": "85dd9502-2640-4c49-b614-7847523cc260",
   "metadata": {},
   "outputs": [],
   "source": [
    "memory = InMemorySaver()\n",
    "graph = graph_builder.compile(checkpointer=memory)"
   ]
  },
  {
   "cell_type": "code",
   "execution_count": null,
   "id": "38f84be3-25f7-4a81-a48c-e5df7fc7eed9",
   "metadata": {},
   "outputs": [],
   "source": [
    "try:\n",
    "    display(Image(graph.get_graph().draw_mermaid_png()))\n",
    "except Exception:\n",
    "    # This requires some extra dependencies and is optional\n",
    "    pass"
   ]
  },
  {
   "cell_type": "code",
   "execution_count": null,
   "id": "f621ace7-7df3-4d8b-961f-47293b2b302d",
   "metadata": {},
   "outputs": [],
   "source": [
    "config = {\"configurable\": {\"thread_id\": \"1\"}}\n",
    "\n",
    "def stream_graph_updates(user_input: str):\n",
    "    for event in graph.stream({\"messages\": [{\"role\": \"user\", \n",
    "                                             \"content\": user_input}]},\n",
    "                             config):\n",
    "        for value in event.values():\n",
    "            print(\"\\nAssistant:\", value[\"messages\"][-1].content)\n",
    "\n",
    "\n",
    "tutor_prompt = open('mollick_tutor_prompt.txt').read()\n",
    "graph.update_state(config, \n",
    "    {\"messages\": tutor_prompt }\n",
    ")\n",
    "stream_graph_updates('Who are you?')\n",
    "\n",
    "while True:\n",
    "    try:\n",
    "        user_input = input(\"\\nUser: \")\n",
    "        if user_input.lower() in [\"quit\", \"exit\", \"q\"]:\n",
    "            print(\"Goodbye!\")\n",
    "            break\n",
    "        stream_graph_updates(user_input)\n",
    "    except:\n",
    "        # fallback if input() is not available\n",
    "        user_input = \"Who are you?\"\n",
    "        print(\"User: \" + user_input)\n",
    "        stream_graph_updates(user_input)\n",
    "        break"
   ]
  },
  {
   "cell_type": "markdown",
   "id": "24ff4b59-24fc-4433-b6d0-6fbd53982fd9",
   "metadata": {},
   "source": [
    "## Evaluation\n",
    "### Subjective Experience\n",
    "### Other observations and quality of tutoring"
   ]
  }
 ],
 "metadata": {
  "kernelspec": {
   "display_name": "Python 3-12 (COMM4190)",
   "language": "python",
   "name": "python3-12_comm4190"
  },
  "language_info": {
   "codemirror_mode": {
    "name": "ipython",
    "version": 3
   },
   "file_extension": ".py",
   "mimetype": "text/x-python",
   "name": "python",
   "nbconvert_exporter": "python",
   "pygments_lexer": "ipython3",
   "version": "3.12.11"
  }
 },
 "nbformat": 4,
 "nbformat_minor": 5
}
